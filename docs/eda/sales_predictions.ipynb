{
  "nbformat": 4,
  "nbformat_minor": 0,
  "metadata": {
    "colab": {
      "provenance": []
    },
    "kernelspec": {
      "name": "python3",
      "display_name": "Python 3"
    },
    "language_info": {
      "name": "python"
    }
  },
  "cells": [
    {
      "cell_type": "markdown",
      "source": [
        "# 🛒 **Predicción de ventas de alimentos**\n",
        "\n",
        "* **Nombre Completo:** Mariana Arismendi\n",
        "* **ID Coding Dojo:** 80511\n",
        "* **Track:** Machine Learning"
      ],
      "metadata": {
        "id": "CgyqW88U-a98"
      }
    },
    {
      "cell_type": "markdown",
      "source": [
        "### 🎯 **Objetivos del proyecto**\n",
        "\n",
        "* Realizar una limpieza y análisis exploratorio de los datos obtenidos de una cadena de tiendas que permitan hallar insights que ayuden a mejorar las operaciones de las tiendas.\n",
        "\n",
        "* Saber qué tan bien se pueden predecir sus ventas de acuerdo al resto de características.\n",
        "\n",
        "* Realizar una predicción de sus ventas según el modelo con mejor rendimiento.\n",
        "\n",
        "El proyecto se realizará haciendo uso del siguiente [conjunto de datos](https://drive.google.com/file/d/1syH81TVrbBsdymLT_jl2JIf6IjPXtSQw/view)."
      ],
      "metadata": {
        "id": "dUnMYD42TJLe"
      }
    },
    {
      "cell_type": "markdown",
      "source": [
        "### 📖 **Diccionario de datos**\n",
        "\n",
        "| Nombre de la variable     | Descripción                                                                                                           |   |   |   |\n",
        "|---------------------------|-----------------------------------------------------------------------------------------------------------------------|---|---|---|\n",
        "| Item_Identifier           | Identificación única del producto                                                                                     |   |   |   |\n",
        "| Item_Weight               | Peso del producto                                                                                                     |   |   |   |\n",
        "| Item_Fat_Content          | Si el producto es bajo en grasa o regular                                                                             |   |   |   |\n",
        "| Item_Visibility           | El porcentaje de la superficie total de exposición de todos los productos de una tienda asignada al producto concreto |   |   |   |\n",
        "| Item_Type                 | La categoría a la que el producto pertenece                                                                           |   |   |   |\n",
        "| Item_MRP                  | Precio máximo de venta al público (precio de catálogo) del producto                                                   |   |   |   |\n",
        "| Outlet_Identifier         | Identificación única de la tienda                                                                                     |   |   |   |\n",
        "| Outlet_Establishment_Year | El año cuando se estableció la tienda                                                                                 |   |   |   |\n",
        "| Outlet_Size               | El tamaño de la tienda con respecto a la superficie                                                                   |   |   |   |\n",
        "| Outlet_Location_Type      | El tipo de área donde está ubicada la tienda                                                                          |   |   |   |\n",
        "| Outlet_Type               | Si el marcado es un almacén o algún tipo de supermercado                                                              |   |   |   |\n",
        "| Item_Outlet_Sales         | Ventas del producto en la tienda particular Es la variable objetivo a predecir                                        |  "
      ],
      "metadata": {
        "id": "k7Ih5uGp7q3d"
      }
    },
    {
      "cell_type": "markdown",
      "source": [
        "## **❕ I. Introducción a los datos**"
      ],
      "metadata": {
        "id": "APiGpWpCEnFB"
      }
    },
    {
      "cell_type": "code",
      "source": [
        "# Importar las librerías\n",
        "import pandas as pd\n",
        "import numpy as np\n",
        "import matplotlib.pyplot as plt\n",
        "import seaborn as sns\n",
        "\n",
        "from sklearn.preprocessing import StandardScaler, OneHotEncoder\n",
        "from sklearn.impute import SimpleImputer\n",
        "from sklearn.compose import make_column_transformer, make_column_selector\n",
        "from sklearn.pipeline import make_pipeline\n",
        "from sklearn.model_selection import train_test_split\n",
        "from sklearn import set_config\n",
        "set_config(display='diagram')"
      ],
      "metadata": {
        "id": "OEDocPctiLb0"
      },
      "execution_count": 1,
      "outputs": []
    },
    {
      "cell_type": "code",
      "execution_count": 2,
      "metadata": {
        "id": "9MYITyCIg02B"
      },
      "outputs": [],
      "source": [
        "# Importar datos\n",
        "url = \"https://github.com/marismendi9/sales-predictions/raw/main/sales_predictions.csv\""
      ]
    },
    {
      "cell_type": "code",
      "source": [
        "# Leer archivo\n",
        "df = pd.read_csv(url)"
      ],
      "metadata": {
        "id": "qgLsVAcBh1Y3"
      },
      "execution_count": 3,
      "outputs": []
    },
    {
      "cell_type": "code",
      "source": [
        "# Imprimir las primeras 5 columnas (verificar que se subió correctamente el archivo)\n",
        "df.head()"
      ],
      "metadata": {
        "colab": {
          "base_uri": "https://localhost:8080/",
          "height": 337
        },
        "id": "1Ebhc3wEh2MT",
        "outputId": "654b086c-47b2-41ae-9153-d0ba2780120d"
      },
      "execution_count": 4,
      "outputs": [
        {
          "output_type": "execute_result",
          "data": {
            "text/plain": [
              "  Item_Identifier  Item_Weight Item_Fat_Content  Item_Visibility  \\\n",
              "0           FDA15         9.30          Low Fat         0.016047   \n",
              "1           DRC01         5.92          Regular         0.019278   \n",
              "2           FDN15        17.50          Low Fat         0.016760   \n",
              "3           FDX07        19.20          Regular         0.000000   \n",
              "4           NCD19         8.93          Low Fat         0.000000   \n",
              "\n",
              "               Item_Type  Item_MRP Outlet_Identifier  \\\n",
              "0                  Dairy  249.8092            OUT049   \n",
              "1            Soft Drinks   48.2692            OUT018   \n",
              "2                   Meat  141.6180            OUT049   \n",
              "3  Fruits and Vegetables  182.0950            OUT010   \n",
              "4              Household   53.8614            OUT013   \n",
              "\n",
              "   Outlet_Establishment_Year Outlet_Size Outlet_Location_Type  \\\n",
              "0                       1999      Medium               Tier 1   \n",
              "1                       2009      Medium               Tier 3   \n",
              "2                       1999      Medium               Tier 1   \n",
              "3                       1998         NaN               Tier 3   \n",
              "4                       1987        High               Tier 3   \n",
              "\n",
              "         Outlet_Type  Item_Outlet_Sales  \n",
              "0  Supermarket Type1          3735.1380  \n",
              "1  Supermarket Type2           443.4228  \n",
              "2  Supermarket Type1          2097.2700  \n",
              "3      Grocery Store           732.3800  \n",
              "4  Supermarket Type1           994.7052  "
            ],
            "text/html": [
              "\n",
              "  <div id=\"df-7be93aba-aeb1-419e-ac8e-b3f55a87a503\">\n",
              "    <div class=\"colab-df-container\">\n",
              "      <div>\n",
              "<style scoped>\n",
              "    .dataframe tbody tr th:only-of-type {\n",
              "        vertical-align: middle;\n",
              "    }\n",
              "\n",
              "    .dataframe tbody tr th {\n",
              "        vertical-align: top;\n",
              "    }\n",
              "\n",
              "    .dataframe thead th {\n",
              "        text-align: right;\n",
              "    }\n",
              "</style>\n",
              "<table border=\"1\" class=\"dataframe\">\n",
              "  <thead>\n",
              "    <tr style=\"text-align: right;\">\n",
              "      <th></th>\n",
              "      <th>Item_Identifier</th>\n",
              "      <th>Item_Weight</th>\n",
              "      <th>Item_Fat_Content</th>\n",
              "      <th>Item_Visibility</th>\n",
              "      <th>Item_Type</th>\n",
              "      <th>Item_MRP</th>\n",
              "      <th>Outlet_Identifier</th>\n",
              "      <th>Outlet_Establishment_Year</th>\n",
              "      <th>Outlet_Size</th>\n",
              "      <th>Outlet_Location_Type</th>\n",
              "      <th>Outlet_Type</th>\n",
              "      <th>Item_Outlet_Sales</th>\n",
              "    </tr>\n",
              "  </thead>\n",
              "  <tbody>\n",
              "    <tr>\n",
              "      <th>0</th>\n",
              "      <td>FDA15</td>\n",
              "      <td>9.30</td>\n",
              "      <td>Low Fat</td>\n",
              "      <td>0.016047</td>\n",
              "      <td>Dairy</td>\n",
              "      <td>249.8092</td>\n",
              "      <td>OUT049</td>\n",
              "      <td>1999</td>\n",
              "      <td>Medium</td>\n",
              "      <td>Tier 1</td>\n",
              "      <td>Supermarket Type1</td>\n",
              "      <td>3735.1380</td>\n",
              "    </tr>\n",
              "    <tr>\n",
              "      <th>1</th>\n",
              "      <td>DRC01</td>\n",
              "      <td>5.92</td>\n",
              "      <td>Regular</td>\n",
              "      <td>0.019278</td>\n",
              "      <td>Soft Drinks</td>\n",
              "      <td>48.2692</td>\n",
              "      <td>OUT018</td>\n",
              "      <td>2009</td>\n",
              "      <td>Medium</td>\n",
              "      <td>Tier 3</td>\n",
              "      <td>Supermarket Type2</td>\n",
              "      <td>443.4228</td>\n",
              "    </tr>\n",
              "    <tr>\n",
              "      <th>2</th>\n",
              "      <td>FDN15</td>\n",
              "      <td>17.50</td>\n",
              "      <td>Low Fat</td>\n",
              "      <td>0.016760</td>\n",
              "      <td>Meat</td>\n",
              "      <td>141.6180</td>\n",
              "      <td>OUT049</td>\n",
              "      <td>1999</td>\n",
              "      <td>Medium</td>\n",
              "      <td>Tier 1</td>\n",
              "      <td>Supermarket Type1</td>\n",
              "      <td>2097.2700</td>\n",
              "    </tr>\n",
              "    <tr>\n",
              "      <th>3</th>\n",
              "      <td>FDX07</td>\n",
              "      <td>19.20</td>\n",
              "      <td>Regular</td>\n",
              "      <td>0.000000</td>\n",
              "      <td>Fruits and Vegetables</td>\n",
              "      <td>182.0950</td>\n",
              "      <td>OUT010</td>\n",
              "      <td>1998</td>\n",
              "      <td>NaN</td>\n",
              "      <td>Tier 3</td>\n",
              "      <td>Grocery Store</td>\n",
              "      <td>732.3800</td>\n",
              "    </tr>\n",
              "    <tr>\n",
              "      <th>4</th>\n",
              "      <td>NCD19</td>\n",
              "      <td>8.93</td>\n",
              "      <td>Low Fat</td>\n",
              "      <td>0.000000</td>\n",
              "      <td>Household</td>\n",
              "      <td>53.8614</td>\n",
              "      <td>OUT013</td>\n",
              "      <td>1987</td>\n",
              "      <td>High</td>\n",
              "      <td>Tier 3</td>\n",
              "      <td>Supermarket Type1</td>\n",
              "      <td>994.7052</td>\n",
              "    </tr>\n",
              "  </tbody>\n",
              "</table>\n",
              "</div>\n",
              "      <button class=\"colab-df-convert\" onclick=\"convertToInteractive('df-7be93aba-aeb1-419e-ac8e-b3f55a87a503')\"\n",
              "              title=\"Convert this dataframe to an interactive table.\"\n",
              "              style=\"display:none;\">\n",
              "        \n",
              "  <svg xmlns=\"http://www.w3.org/2000/svg\" height=\"24px\"viewBox=\"0 0 24 24\"\n",
              "       width=\"24px\">\n",
              "    <path d=\"M0 0h24v24H0V0z\" fill=\"none\"/>\n",
              "    <path d=\"M18.56 5.44l.94 2.06.94-2.06 2.06-.94-2.06-.94-.94-2.06-.94 2.06-2.06.94zm-11 1L8.5 8.5l.94-2.06 2.06-.94-2.06-.94L8.5 2.5l-.94 2.06-2.06.94zm10 10l.94 2.06.94-2.06 2.06-.94-2.06-.94-.94-2.06-.94 2.06-2.06.94z\"/><path d=\"M17.41 7.96l-1.37-1.37c-.4-.4-.92-.59-1.43-.59-.52 0-1.04.2-1.43.59L10.3 9.45l-7.72 7.72c-.78.78-.78 2.05 0 2.83L4 21.41c.39.39.9.59 1.41.59.51 0 1.02-.2 1.41-.59l7.78-7.78 2.81-2.81c.8-.78.8-2.07 0-2.86zM5.41 20L4 18.59l7.72-7.72 1.47 1.35L5.41 20z\"/>\n",
              "  </svg>\n",
              "      </button>\n",
              "      \n",
              "  <style>\n",
              "    .colab-df-container {\n",
              "      display:flex;\n",
              "      flex-wrap:wrap;\n",
              "      gap: 12px;\n",
              "    }\n",
              "\n",
              "    .colab-df-convert {\n",
              "      background-color: #E8F0FE;\n",
              "      border: none;\n",
              "      border-radius: 50%;\n",
              "      cursor: pointer;\n",
              "      display: none;\n",
              "      fill: #1967D2;\n",
              "      height: 32px;\n",
              "      padding: 0 0 0 0;\n",
              "      width: 32px;\n",
              "    }\n",
              "\n",
              "    .colab-df-convert:hover {\n",
              "      background-color: #E2EBFA;\n",
              "      box-shadow: 0px 1px 2px rgba(60, 64, 67, 0.3), 0px 1px 3px 1px rgba(60, 64, 67, 0.15);\n",
              "      fill: #174EA6;\n",
              "    }\n",
              "\n",
              "    [theme=dark] .colab-df-convert {\n",
              "      background-color: #3B4455;\n",
              "      fill: #D2E3FC;\n",
              "    }\n",
              "\n",
              "    [theme=dark] .colab-df-convert:hover {\n",
              "      background-color: #434B5C;\n",
              "      box-shadow: 0px 1px 3px 1px rgba(0, 0, 0, 0.15);\n",
              "      filter: drop-shadow(0px 1px 2px rgba(0, 0, 0, 0.3));\n",
              "      fill: #FFFFFF;\n",
              "    }\n",
              "  </style>\n",
              "\n",
              "      <script>\n",
              "        const buttonEl =\n",
              "          document.querySelector('#df-7be93aba-aeb1-419e-ac8e-b3f55a87a503 button.colab-df-convert');\n",
              "        buttonEl.style.display =\n",
              "          google.colab.kernel.accessAllowed ? 'block' : 'none';\n",
              "\n",
              "        async function convertToInteractive(key) {\n",
              "          const element = document.querySelector('#df-7be93aba-aeb1-419e-ac8e-b3f55a87a503');\n",
              "          const dataTable =\n",
              "            await google.colab.kernel.invokeFunction('convertToInteractive',\n",
              "                                                     [key], {});\n",
              "          if (!dataTable) return;\n",
              "\n",
              "          const docLinkHtml = 'Like what you see? Visit the ' +\n",
              "            '<a target=\"_blank\" href=https://colab.research.google.com/notebooks/data_table.ipynb>data table notebook</a>'\n",
              "            + ' to learn more about interactive tables.';\n",
              "          element.innerHTML = '';\n",
              "          dataTable['output_type'] = 'display_data';\n",
              "          await google.colab.output.renderOutput(dataTable, element);\n",
              "          const docLink = document.createElement('div');\n",
              "          docLink.innerHTML = docLinkHtml;\n",
              "          element.appendChild(docLink);\n",
              "        }\n",
              "      </script>\n",
              "    </div>\n",
              "  </div>\n",
              "  "
            ]
          },
          "metadata": {},
          "execution_count": 4
        }
      ]
    },
    {
      "cell_type": "markdown",
      "source": [
        "## **🧹 II. Limpieza de los datos**"
      ],
      "metadata": {
        "id": "SOAC1CqG-qmY"
      }
    },
    {
      "cell_type": "code",
      "source": [
        "# Ver cuántos duplicados hay\n",
        "df.duplicated().sum()"
      ],
      "metadata": {
        "colab": {
          "base_uri": "https://localhost:8080/"
        },
        "id": "mSrBLGXE_G8v",
        "outputId": "0d258399-2ee8-41bc-f15a-4aba224a0b77"
      },
      "execution_count": 5,
      "outputs": [
        {
          "output_type": "execute_result",
          "data": {
            "text/plain": [
              "0"
            ]
          },
          "metadata": {},
          "execution_count": 5
        }
      ]
    },
    {
      "cell_type": "code",
      "source": [
        "# Corroborar estén bien escritos los nombres de las columnas\n",
        "df.columns"
      ],
      "metadata": {
        "colab": {
          "base_uri": "https://localhost:8080/"
        },
        "id": "1q95qz4w_VAk",
        "outputId": "2c89ff27-13d0-403c-c1b6-6b6c35a3832a"
      },
      "execution_count": 6,
      "outputs": [
        {
          "output_type": "execute_result",
          "data": {
            "text/plain": [
              "Index(['Item_Identifier', 'Item_Weight', 'Item_Fat_Content', 'Item_Visibility',\n",
              "       'Item_Type', 'Item_MRP', 'Outlet_Identifier',\n",
              "       'Outlet_Establishment_Year', 'Outlet_Size', 'Outlet_Location_Type',\n",
              "       'Outlet_Type', 'Item_Outlet_Sales'],\n",
              "      dtype='object')"
            ]
          },
          "metadata": {},
          "execution_count": 6
        }
      ]
    },
    {
      "cell_type": "code",
      "source": [
        "# Tamaño del dataframe\n",
        "df.shape"
      ],
      "metadata": {
        "colab": {
          "base_uri": "https://localhost:8080/"
        },
        "id": "BJmj89cD_ekf",
        "outputId": "0bf64f7f-77b9-4228-8bff-54644a915731"
      },
      "execution_count": 7,
      "outputs": [
        {
          "output_type": "execute_result",
          "data": {
            "text/plain": [
              "(8523, 12)"
            ]
          },
          "metadata": {},
          "execution_count": 7
        }
      ]
    },
    {
      "cell_type": "code",
      "source": [
        "# Examinar el número de valores únicos de cada columna:\n",
        "df.nunique()"
      ],
      "metadata": {
        "colab": {
          "base_uri": "https://localhost:8080/"
        },
        "id": "u_fkEJ28_lSN",
        "outputId": "7ea2deb0-68e0-4959-cd39-48b8fcf6d1e0"
      },
      "execution_count": 8,
      "outputs": [
        {
          "output_type": "execute_result",
          "data": {
            "text/plain": [
              "Item_Identifier              1559\n",
              "Item_Weight                   415\n",
              "Item_Fat_Content                5\n",
              "Item_Visibility              7880\n",
              "Item_Type                      16\n",
              "Item_MRP                     5938\n",
              "Outlet_Identifier              10\n",
              "Outlet_Establishment_Year       9\n",
              "Outlet_Size                     3\n",
              "Outlet_Location_Type            3\n",
              "Outlet_Type                     4\n",
              "Item_Outlet_Sales            3493\n",
              "dtype: int64"
            ]
          },
          "metadata": {},
          "execution_count": 8
        }
      ]
    },
    {
      "cell_type": "code",
      "source": [
        "# Revisar tipos de datos y valores nulos\n",
        "df.info()"
      ],
      "metadata": {
        "colab": {
          "base_uri": "https://localhost:8080/"
        },
        "id": "8z26Vjj5_uYR",
        "outputId": "a7c25fcf-b33b-4824-afb4-494cd44e3e6e"
      },
      "execution_count": 9,
      "outputs": [
        {
          "output_type": "stream",
          "name": "stdout",
          "text": [
            "<class 'pandas.core.frame.DataFrame'>\n",
            "RangeIndex: 8523 entries, 0 to 8522\n",
            "Data columns (total 12 columns):\n",
            " #   Column                     Non-Null Count  Dtype  \n",
            "---  ------                     --------------  -----  \n",
            " 0   Item_Identifier            8523 non-null   object \n",
            " 1   Item_Weight                7060 non-null   float64\n",
            " 2   Item_Fat_Content           8523 non-null   object \n",
            " 3   Item_Visibility            8523 non-null   float64\n",
            " 4   Item_Type                  8523 non-null   object \n",
            " 5   Item_MRP                   8523 non-null   float64\n",
            " 6   Outlet_Identifier          8523 non-null   object \n",
            " 7   Outlet_Establishment_Year  8523 non-null   int64  \n",
            " 8   Outlet_Size                6113 non-null   object \n",
            " 9   Outlet_Location_Type       8523 non-null   object \n",
            " 10  Outlet_Type                8523 non-null   object \n",
            " 11  Item_Outlet_Sales          8523 non-null   float64\n",
            "dtypes: float64(4), int64(1), object(7)\n",
            "memory usage: 799.2+ KB\n"
          ]
        }
      ]
    },
    {
      "cell_type": "markdown",
      "source": [
        "Los tipos de datos son consistentes, procedemos a analizar los valores nulos."
      ],
      "metadata": {
        "id": "A9tdwcT__2Ca"
      }
    },
    {
      "cell_type": "code",
      "source": [
        "# Identificar el número de non-values de cada columna\n",
        "df.isna().sum()"
      ],
      "metadata": {
        "colab": {
          "base_uri": "https://localhost:8080/"
        },
        "id": "C4mfCqCiAPoz",
        "outputId": "3fd8c777-bf5d-4310-d59a-33f07edf6b1a"
      },
      "execution_count": 10,
      "outputs": [
        {
          "output_type": "execute_result",
          "data": {
            "text/plain": [
              "Item_Identifier                 0\n",
              "Item_Weight                  1463\n",
              "Item_Fat_Content                0\n",
              "Item_Visibility                 0\n",
              "Item_Type                       0\n",
              "Item_MRP                        0\n",
              "Outlet_Identifier               0\n",
              "Outlet_Establishment_Year       0\n",
              "Outlet_Size                  2410\n",
              "Outlet_Location_Type            0\n",
              "Outlet_Type                     0\n",
              "Item_Outlet_Sales               0\n",
              "dtype: int64"
            ]
          },
          "metadata": {},
          "execution_count": 10
        }
      ]
    },
    {
      "cell_type": "markdown",
      "source": [
        "Comenzamos con Item_Weight:\n",
        "Hay 8522 filas - 1559 productos diferentes y 415 diferentes pesos. Deducimos que los valores nulos están para productos que tienen su peso descrito en otras filas. O sea que por GroupBy, que omite nulos, podemos identificarlos para luego reemplazarlos.\n",
        "\n",
        "Este proceso no crea fuga de datos ya que estamos relacionando estos valores con los valores correspondientes de otra columna, no estamos deduciendo sus valores, si no asignando los correctos teniendo en cuenta que cada producto y outlet tendrá unas características únicas."
      ],
      "metadata": {
        "id": "vyWcpknIAW0h"
      }
    },
    {
      "cell_type": "code",
      "source": [
        "# Agrupamos el Item_Identifier y el Item_Weight y luego reemplazamos los valores nulos con esta información:\n",
        "x = df.groupby('Item_Identifier')['Item_Weight'].max()\n",
        "\n",
        "df = df.set_index('Item_Identifier')\n",
        "df['Item_Weight'] = df['Item_Weight'].fillna(x)\n",
        "df = df.reset_index()\n",
        "\n",
        "df.head()"
      ],
      "metadata": {
        "colab": {
          "base_uri": "https://localhost:8080/",
          "height": 337
        },
        "id": "TOFRjGAZAxC0",
        "outputId": "a1a603ad-adb0-43b4-9c35-bf678505b5d2"
      },
      "execution_count": 11,
      "outputs": [
        {
          "output_type": "execute_result",
          "data": {
            "text/plain": [
              "  Item_Identifier  Item_Weight Item_Fat_Content  Item_Visibility  \\\n",
              "0           FDA15         9.30          Low Fat         0.016047   \n",
              "1           DRC01         5.92          Regular         0.019278   \n",
              "2           FDN15        17.50          Low Fat         0.016760   \n",
              "3           FDX07        19.20          Regular         0.000000   \n",
              "4           NCD19         8.93          Low Fat         0.000000   \n",
              "\n",
              "               Item_Type  Item_MRP Outlet_Identifier  \\\n",
              "0                  Dairy  249.8092            OUT049   \n",
              "1            Soft Drinks   48.2692            OUT018   \n",
              "2                   Meat  141.6180            OUT049   \n",
              "3  Fruits and Vegetables  182.0950            OUT010   \n",
              "4              Household   53.8614            OUT013   \n",
              "\n",
              "   Outlet_Establishment_Year Outlet_Size Outlet_Location_Type  \\\n",
              "0                       1999      Medium               Tier 1   \n",
              "1                       2009      Medium               Tier 3   \n",
              "2                       1999      Medium               Tier 1   \n",
              "3                       1998         NaN               Tier 3   \n",
              "4                       1987        High               Tier 3   \n",
              "\n",
              "         Outlet_Type  Item_Outlet_Sales  \n",
              "0  Supermarket Type1          3735.1380  \n",
              "1  Supermarket Type2           443.4228  \n",
              "2  Supermarket Type1          2097.2700  \n",
              "3      Grocery Store           732.3800  \n",
              "4  Supermarket Type1           994.7052  "
            ],
            "text/html": [
              "\n",
              "  <div id=\"df-21ebc60a-073b-417b-a2fe-5f5d88bfe352\">\n",
              "    <div class=\"colab-df-container\">\n",
              "      <div>\n",
              "<style scoped>\n",
              "    .dataframe tbody tr th:only-of-type {\n",
              "        vertical-align: middle;\n",
              "    }\n",
              "\n",
              "    .dataframe tbody tr th {\n",
              "        vertical-align: top;\n",
              "    }\n",
              "\n",
              "    .dataframe thead th {\n",
              "        text-align: right;\n",
              "    }\n",
              "</style>\n",
              "<table border=\"1\" class=\"dataframe\">\n",
              "  <thead>\n",
              "    <tr style=\"text-align: right;\">\n",
              "      <th></th>\n",
              "      <th>Item_Identifier</th>\n",
              "      <th>Item_Weight</th>\n",
              "      <th>Item_Fat_Content</th>\n",
              "      <th>Item_Visibility</th>\n",
              "      <th>Item_Type</th>\n",
              "      <th>Item_MRP</th>\n",
              "      <th>Outlet_Identifier</th>\n",
              "      <th>Outlet_Establishment_Year</th>\n",
              "      <th>Outlet_Size</th>\n",
              "      <th>Outlet_Location_Type</th>\n",
              "      <th>Outlet_Type</th>\n",
              "      <th>Item_Outlet_Sales</th>\n",
              "    </tr>\n",
              "  </thead>\n",
              "  <tbody>\n",
              "    <tr>\n",
              "      <th>0</th>\n",
              "      <td>FDA15</td>\n",
              "      <td>9.30</td>\n",
              "      <td>Low Fat</td>\n",
              "      <td>0.016047</td>\n",
              "      <td>Dairy</td>\n",
              "      <td>249.8092</td>\n",
              "      <td>OUT049</td>\n",
              "      <td>1999</td>\n",
              "      <td>Medium</td>\n",
              "      <td>Tier 1</td>\n",
              "      <td>Supermarket Type1</td>\n",
              "      <td>3735.1380</td>\n",
              "    </tr>\n",
              "    <tr>\n",
              "      <th>1</th>\n",
              "      <td>DRC01</td>\n",
              "      <td>5.92</td>\n",
              "      <td>Regular</td>\n",
              "      <td>0.019278</td>\n",
              "      <td>Soft Drinks</td>\n",
              "      <td>48.2692</td>\n",
              "      <td>OUT018</td>\n",
              "      <td>2009</td>\n",
              "      <td>Medium</td>\n",
              "      <td>Tier 3</td>\n",
              "      <td>Supermarket Type2</td>\n",
              "      <td>443.4228</td>\n",
              "    </tr>\n",
              "    <tr>\n",
              "      <th>2</th>\n",
              "      <td>FDN15</td>\n",
              "      <td>17.50</td>\n",
              "      <td>Low Fat</td>\n",
              "      <td>0.016760</td>\n",
              "      <td>Meat</td>\n",
              "      <td>141.6180</td>\n",
              "      <td>OUT049</td>\n",
              "      <td>1999</td>\n",
              "      <td>Medium</td>\n",
              "      <td>Tier 1</td>\n",
              "      <td>Supermarket Type1</td>\n",
              "      <td>2097.2700</td>\n",
              "    </tr>\n",
              "    <tr>\n",
              "      <th>3</th>\n",
              "      <td>FDX07</td>\n",
              "      <td>19.20</td>\n",
              "      <td>Regular</td>\n",
              "      <td>0.000000</td>\n",
              "      <td>Fruits and Vegetables</td>\n",
              "      <td>182.0950</td>\n",
              "      <td>OUT010</td>\n",
              "      <td>1998</td>\n",
              "      <td>NaN</td>\n",
              "      <td>Tier 3</td>\n",
              "      <td>Grocery Store</td>\n",
              "      <td>732.3800</td>\n",
              "    </tr>\n",
              "    <tr>\n",
              "      <th>4</th>\n",
              "      <td>NCD19</td>\n",
              "      <td>8.93</td>\n",
              "      <td>Low Fat</td>\n",
              "      <td>0.000000</td>\n",
              "      <td>Household</td>\n",
              "      <td>53.8614</td>\n",
              "      <td>OUT013</td>\n",
              "      <td>1987</td>\n",
              "      <td>High</td>\n",
              "      <td>Tier 3</td>\n",
              "      <td>Supermarket Type1</td>\n",
              "      <td>994.7052</td>\n",
              "    </tr>\n",
              "  </tbody>\n",
              "</table>\n",
              "</div>\n",
              "      <button class=\"colab-df-convert\" onclick=\"convertToInteractive('df-21ebc60a-073b-417b-a2fe-5f5d88bfe352')\"\n",
              "              title=\"Convert this dataframe to an interactive table.\"\n",
              "              style=\"display:none;\">\n",
              "        \n",
              "  <svg xmlns=\"http://www.w3.org/2000/svg\" height=\"24px\"viewBox=\"0 0 24 24\"\n",
              "       width=\"24px\">\n",
              "    <path d=\"M0 0h24v24H0V0z\" fill=\"none\"/>\n",
              "    <path d=\"M18.56 5.44l.94 2.06.94-2.06 2.06-.94-2.06-.94-.94-2.06-.94 2.06-2.06.94zm-11 1L8.5 8.5l.94-2.06 2.06-.94-2.06-.94L8.5 2.5l-.94 2.06-2.06.94zm10 10l.94 2.06.94-2.06 2.06-.94-2.06-.94-.94-2.06-.94 2.06-2.06.94z\"/><path d=\"M17.41 7.96l-1.37-1.37c-.4-.4-.92-.59-1.43-.59-.52 0-1.04.2-1.43.59L10.3 9.45l-7.72 7.72c-.78.78-.78 2.05 0 2.83L4 21.41c.39.39.9.59 1.41.59.51 0 1.02-.2 1.41-.59l7.78-7.78 2.81-2.81c.8-.78.8-2.07 0-2.86zM5.41 20L4 18.59l7.72-7.72 1.47 1.35L5.41 20z\"/>\n",
              "  </svg>\n",
              "      </button>\n",
              "      \n",
              "  <style>\n",
              "    .colab-df-container {\n",
              "      display:flex;\n",
              "      flex-wrap:wrap;\n",
              "      gap: 12px;\n",
              "    }\n",
              "\n",
              "    .colab-df-convert {\n",
              "      background-color: #E8F0FE;\n",
              "      border: none;\n",
              "      border-radius: 50%;\n",
              "      cursor: pointer;\n",
              "      display: none;\n",
              "      fill: #1967D2;\n",
              "      height: 32px;\n",
              "      padding: 0 0 0 0;\n",
              "      width: 32px;\n",
              "    }\n",
              "\n",
              "    .colab-df-convert:hover {\n",
              "      background-color: #E2EBFA;\n",
              "      box-shadow: 0px 1px 2px rgba(60, 64, 67, 0.3), 0px 1px 3px 1px rgba(60, 64, 67, 0.15);\n",
              "      fill: #174EA6;\n",
              "    }\n",
              "\n",
              "    [theme=dark] .colab-df-convert {\n",
              "      background-color: #3B4455;\n",
              "      fill: #D2E3FC;\n",
              "    }\n",
              "\n",
              "    [theme=dark] .colab-df-convert:hover {\n",
              "      background-color: #434B5C;\n",
              "      box-shadow: 0px 1px 3px 1px rgba(0, 0, 0, 0.15);\n",
              "      filter: drop-shadow(0px 1px 2px rgba(0, 0, 0, 0.3));\n",
              "      fill: #FFFFFF;\n",
              "    }\n",
              "  </style>\n",
              "\n",
              "      <script>\n",
              "        const buttonEl =\n",
              "          document.querySelector('#df-21ebc60a-073b-417b-a2fe-5f5d88bfe352 button.colab-df-convert');\n",
              "        buttonEl.style.display =\n",
              "          google.colab.kernel.accessAllowed ? 'block' : 'none';\n",
              "\n",
              "        async function convertToInteractive(key) {\n",
              "          const element = document.querySelector('#df-21ebc60a-073b-417b-a2fe-5f5d88bfe352');\n",
              "          const dataTable =\n",
              "            await google.colab.kernel.invokeFunction('convertToInteractive',\n",
              "                                                     [key], {});\n",
              "          if (!dataTable) return;\n",
              "\n",
              "          const docLinkHtml = 'Like what you see? Visit the ' +\n",
              "            '<a target=\"_blank\" href=https://colab.research.google.com/notebooks/data_table.ipynb>data table notebook</a>'\n",
              "            + ' to learn more about interactive tables.';\n",
              "          element.innerHTML = '';\n",
              "          dataTable['output_type'] = 'display_data';\n",
              "          await google.colab.output.renderOutput(dataTable, element);\n",
              "          const docLink = document.createElement('div');\n",
              "          docLink.innerHTML = docLinkHtml;\n",
              "          element.appendChild(docLink);\n",
              "        }\n",
              "      </script>\n",
              "    </div>\n",
              "  </div>\n",
              "  "
            ]
          },
          "metadata": {},
          "execution_count": 11
        }
      ]
    },
    {
      "cell_type": "code",
      "source": [
        "# Identificamos si quedan non-values en esta columna:\n",
        "df.isna().sum()"
      ],
      "metadata": {
        "colab": {
          "base_uri": "https://localhost:8080/"
        },
        "id": "DcytoGO3EHqX",
        "outputId": "85b3cc94-2a85-4425-f573-8aadbd3f1b22"
      },
      "execution_count": 12,
      "outputs": [
        {
          "output_type": "execute_result",
          "data": {
            "text/plain": [
              "Item_Identifier                 0\n",
              "Item_Weight                     4\n",
              "Item_Fat_Content                0\n",
              "Item_Visibility                 0\n",
              "Item_Type                       0\n",
              "Item_MRP                        0\n",
              "Outlet_Identifier               0\n",
              "Outlet_Establishment_Year       0\n",
              "Outlet_Size                  2410\n",
              "Outlet_Location_Type            0\n",
              "Outlet_Type                     0\n",
              "Item_Outlet_Sales               0\n",
              "dtype: int64"
            ]
          },
          "metadata": {},
          "execution_count": 12
        }
      ]
    },
    {
      "cell_type": "markdown",
      "source": [
        "Siguen habiendo 4 valores nulos, por lo cual se debe tratar de ítems únicos. No vamos a rellenar estos valores hasta no dividir los datos. Otra opción podría ser eliminarlos definitivamente, como haremos ahora."
      ],
      "metadata": {
        "id": "Yx3mXe9KvDjp"
      }
    },
    {
      "cell_type": "code",
      "source": [
        "df['Item_Weight'].fillna(0, inplace = True)\n",
        "df['Item_Weight'].drop(0);"
      ],
      "metadata": {
        "id": "9bn_2UT7i72X"
      },
      "execution_count": 13,
      "outputs": []
    },
    {
      "cell_type": "markdown",
      "source": [
        "Los demás datos nulos corresponden al tamaño de la tienda; notamos que solo hay 10 tiendas. Procedemos a verificar si cada tienda tiene asignado su tamaño mediante un groupby para poder autocompletar los nulos con esta información"
      ],
      "metadata": {
        "id": "25texOCj9_yb"
      }
    },
    {
      "cell_type": "code",
      "source": [
        "# Identificamos el tamaño de cada tienda\n",
        "df.groupby('Outlet_Identifier')['Outlet_Size'].max()"
      ],
      "metadata": {
        "colab": {
          "base_uri": "https://localhost:8080/"
        },
        "id": "GiwGGNyQpd7p",
        "outputId": "5c333a7f-93e6-4902-81b4-bcf198b0b127"
      },
      "execution_count": 14,
      "outputs": [
        {
          "output_type": "execute_result",
          "data": {
            "text/plain": [
              "Outlet_Identifier\n",
              "OUT010       NaN\n",
              "OUT013      High\n",
              "OUT017       NaN\n",
              "OUT018    Medium\n",
              "OUT019     Small\n",
              "OUT027    Medium\n",
              "OUT035     Small\n",
              "OUT045       NaN\n",
              "OUT046     Small\n",
              "OUT049    Medium\n",
              "Name: Outlet_Size, dtype: object"
            ]
          },
          "metadata": {},
          "execution_count": 14
        }
      ]
    },
    {
      "cell_type": "markdown",
      "source": [
        "Existen tres tiendas que no tienen la característica de tamaño definida. No vamos a reemplzar estos datos nulos hasta no hacer la división y, a pesar de ser una categoría ordinal, no vamos a reemplazar sus nombres por valores numéricos ya que aún existen datos nulos y no se podría rellenar con un promedio (como haremos con Item_Weight que si son datos numéricos)."
      ],
      "metadata": {
        "id": "doLFuGius-vy"
      }
    },
    {
      "cell_type": "code",
      "source": [
        "# Verificamos datos inconsistentes en las columnas categóricas:\n",
        "df['Item_Fat_Content'].unique()"
      ],
      "metadata": {
        "colab": {
          "base_uri": "https://localhost:8080/"
        },
        "id": "oRRmaBOOrBLX",
        "outputId": "f929f96e-eb50-415f-ec3c-241b9ac712df"
      },
      "execution_count": 15,
      "outputs": [
        {
          "output_type": "execute_result",
          "data": {
            "text/plain": [
              "array(['Low Fat', 'Regular', 'low fat', 'LF', 'reg'], dtype=object)"
            ]
          },
          "metadata": {},
          "execution_count": 15
        }
      ]
    },
    {
      "cell_type": "code",
      "source": [
        "# Realizamos reemplazo de variables categóricas\n",
        "df['Item_Fat_Content'].replace({'low fat': 'Low Fat', 'LF': 'Low Fat', 'reg': 'Regular'}, inplace = True)\n",
        "\n",
        "# Verificamos que se hayan hecho los reemplazos correctamente\n",
        "df['Item_Fat_Content'].unique()"
      ],
      "metadata": {
        "colab": {
          "base_uri": "https://localhost:8080/"
        },
        "id": "X0exRTiZrFVy",
        "outputId": "c06b3530-beb8-4cb3-dfad-5582583f7bc6"
      },
      "execution_count": 16,
      "outputs": [
        {
          "output_type": "execute_result",
          "data": {
            "text/plain": [
              "array(['Low Fat', 'Regular'], dtype=object)"
            ]
          },
          "metadata": {},
          "execution_count": 16
        }
      ]
    },
    {
      "cell_type": "markdown",
      "source": [
        "## 📊 **IV. Análisis exploratorio de datos**"
      ],
      "metadata": {
        "id": "r0HSiWX0zTMR"
      }
    },
    {
      "cell_type": "code",
      "source": [
        "# Dataframe productos\n",
        "df_p = df.drop(columns={'Outlet_Identifier',\n",
        "       'Outlet_Establishment_Year', 'Outlet_Size', 'Outlet_Location_Type',\n",
        "       'Outlet_Type'})\n",
        "\n",
        "df_p.columns"
      ],
      "metadata": {
        "colab": {
          "base_uri": "https://localhost:8080/"
        },
        "id": "kkL07j4D0TR9",
        "outputId": "d650cd33-b556-43b8-8c21-8184304fe50f"
      },
      "execution_count": 17,
      "outputs": [
        {
          "output_type": "execute_result",
          "data": {
            "text/plain": [
              "Index(['Item_Identifier', 'Item_Weight', 'Item_Fat_Content', 'Item_Visibility',\n",
              "       'Item_Type', 'Item_MRP', 'Item_Outlet_Sales'],\n",
              "      dtype='object')"
            ]
          },
          "metadata": {},
          "execution_count": 17
        }
      ]
    },
    {
      "cell_type": "code",
      "source": [
        "# Calcular las correlaciones\n",
        "corr = df_p.corr()"
      ],
      "metadata": {
        "id": "-7E9xJ3q0ji8"
      },
      "execution_count": 18,
      "outputs": []
    },
    {
      "cell_type": "code",
      "source": [
        "# Crear el mapa de calor con los coeficientes de correlación actuales\n",
        "import seaborn as sns\n",
        "sns.heatmap(corr, cmap = 'gray_r', annot = True)"
      ],
      "metadata": {
        "colab": {
          "base_uri": "https://localhost:8080/",
          "height": 367
        },
        "id": "RU8z60aH021G",
        "outputId": "4d832d5e-2685-4ff6-f9b2-eeee86bfdfeb"
      },
      "execution_count": 19,
      "outputs": [
        {
          "output_type": "execute_result",
          "data": {
            "text/plain": [
              "<matplotlib.axes._subplots.AxesSubplot at 0x7f3e31652f40>"
            ]
          },
          "metadata": {},
          "execution_count": 19
        },
        {
          "output_type": "display_data",
          "data": {
            "text/plain": [
              "<Figure size 432x288 with 2 Axes>"
            ],
            "image/png": "[encoded data removed]"
          },
          "metadata": {
            "needs_background": "light"
          }
        }
      ]
    },
    {
      "cell_type": "markdown",
      "source": [
        "* Existe una correlación moderada a fuerte entre los precios y las ventas de los productos, sin embargo esto podría deberse a la misma alza de precio que causa mayor entrada de dinero por ese lado, hay que seguir explorando. No existe ninguna otra correlación visible."
      ],
      "metadata": {
        "id": "3NCZqCMe1eT4"
      }
    },
    {
      "cell_type": "code",
      "source": [
        "# Mapa de calor unificado\n",
        "corr_3 = df.corr()"
      ],
      "metadata": {
        "id": "UpVHY-Z82URT"
      },
      "execution_count": 20,
      "outputs": []
    },
    {
      "cell_type": "code",
      "source": [
        "# Crear el mapa de calor con los coeficientes de correlación actuales\n",
        "import seaborn as sns\n",
        "sns.heatmap(corr_3, cmap = 'gray_r', annot = True)"
      ],
      "metadata": {
        "colab": {
          "base_uri": "https://localhost:8080/",
          "height": 410
        },
        "id": "9LlhdIC42Z80",
        "outputId": "ffa8b953-60e8-49bb-8019-51459c620660"
      },
      "execution_count": 21,
      "outputs": [
        {
          "output_type": "execute_result",
          "data": {
            "text/plain": [
              "<matplotlib.axes._subplots.AxesSubplot at 0x7f3e2ed0f880>"
            ]
          },
          "metadata": {},
          "execution_count": 21
        },
        {
          "output_type": "display_data",
          "data": {
            "text/plain": [
              "<Figure size 432x288 with 2 Axes>"
            ],
            "image/png": "[encoded data removed]"
          },
          "metadata": {
            "needs_background": "light"
          }
        }
      ]
    },
    {
      "cell_type": "markdown",
      "source": [
        "* La única correlación nueva que existe es una muy leve sobre la visibilidad de los items, respecto al tipo de tienda. Según esto, las tiendas pequeñas tendrían más visibilidad de los items, pero esto se puede deducir desde el punto de vista de que las tiendas pequeñas tendrán menor cantidad de items, lo cual hace que la visibilidad de cada ítem sea inversamente más grande en cuanto menor sea el tamaño. Sin embargo es algo muy trivial, no aporta mucho y la correlación es muy pequeña."
      ],
      "metadata": {
        "id": "1PIkpbLR2nEs"
      }
    },
    {
      "cell_type": "code",
      "source": [
        "# Histograma variable Item_Type\n",
        "fig, ax = plt.subplots(figsize = (10, 5))\n",
        "sns.histplot(data = df['Item_Type'], bins = 16, edgecolor='black', kde = True, color='k')\n",
        "plt.title('Cantidad de producto por tipo', fontsize=16)\n",
        "plt.xlabel(\"Tipo de Item\", fontsize = 15)\n",
        "plt.xticks(rotation = 90)\n",
        "plt.show()"
      ],
      "metadata": {
        "colab": {
          "base_uri": "https://localhost:8080/",
          "height": 455
        },
        "id": "QTxof1Mt3GR8",
        "outputId": "5641ec92-c143-41fd-f6e8-3dd8b2333f3c"
      },
      "execution_count": 22,
      "outputs": [
        {
          "output_type": "display_data",
          "data": {
            "text/plain": [
              "<Figure size 720x360 with 1 Axes>"
            ],
            "image/png": "[encoded data removed]"
          },
          "metadata": {
            "needs_background": "light"
          }
        }
      ]
    },
    {
      "cell_type": "code",
      "source": [
        "# Histograma variable Item_Outlet_Sales\n",
        "fig, ax = plt.subplots(figsize = (10, 5))\n",
        "sns.histplot(data = df['Item_Outlet_Sales'], bins = 16, edgecolor='black', kde = True, color='k')\n",
        "plt.title('Histograma de ventas por item', fontsize=16)\n",
        "plt.xticks(rotation = 90)\n",
        "plt.show()"
      ],
      "metadata": {
        "colab": {
          "base_uri": "https://localhost:8080/",
          "height": 374
        },
        "id": "Ls1PNb_AFqeW",
        "outputId": "94ade7c3-96a9-4468-cfb3-19c2dbf73cb6"
      },
      "execution_count": 23,
      "outputs": [
        {
          "output_type": "display_data",
          "data": {
            "text/plain": [
              "<Figure size 720x360 with 1 Axes>"
            ],
            "image/png": "[encoded data removed]"
          },
          "metadata": {
            "needs_background": "light"
          }
        }
      ]
    },
    {
      "cell_type": "markdown",
      "source": [
        "* Este gráfico me indica de qué categoría tienen más productos y de cuáles no. Por ejemplo manejan mucho lo que son frutas y vegetales y snack y menos lo que es desayuno y comida de mar, este último a pesar de que manejan bastante comida congelada."
      ],
      "metadata": {
        "id": "9XlGnj0Q34WZ"
      }
    },
    {
      "cell_type": "code",
      "source": [
        "# Histograma variable Outlet_Size\n",
        "fig, ax = plt.subplots(figsize = (10, 5))\n",
        "sns.histplot(data = df['Outlet_Size'], bins = 3, edgecolor='black', kde = True, color='k')\n",
        "plt.title('Variedad de productos por tamaño de outlet', fontsize=16)\n",
        "plt.xlabel(\"Tamaño del outlet\", fontsize = 15)\n",
        "plt.xticks(rotation = 0)\n",
        "plt.show()"
      ],
      "metadata": {
        "colab": {
          "base_uri": "https://localhost:8080/",
          "height": 357
        },
        "id": "7IlOwONB3GY1",
        "outputId": "5ad0ced8-1367-4108-940e-3eade2d865a9"
      },
      "execution_count": 24,
      "outputs": [
        {
          "output_type": "display_data",
          "data": {
            "text/plain": [
              "<Figure size 720x360 with 1 Axes>"
            ],
            "image/png": "[encoded data removed]"
          },
          "metadata": {
            "needs_background": "light"
          }
        }
      ]
    },
    {
      "cell_type": "markdown",
      "source": [
        "* Este gráfico me indica de que la mayor variedad de productos se maneja en los outlets medianos y que los grandes manejan menos variedad, incluso menos que las tiendas pequeñas, contrario a lo que normalmente se vería."
      ],
      "metadata": {
        "id": "ehJ22ovY4sit"
      }
    },
    {
      "cell_type": "code",
      "source": [
        "# Histograma variable Outlet_Type\n",
        "fig, ax = plt.subplots(figsize = (10, 5))\n",
        "sns.histplot(data = df['Outlet_Type'], bins = 4, edgecolor='black', kde = True, color='k')\n",
        "plt.title('Variedad de productos por tamaño de outlet', fontsize=16)\n",
        "plt.xlabel(\"Tipo de outlet\", fontsize = 15)\n",
        "plt.xticks(rotation = 0)\n",
        "plt.show()"
      ],
      "metadata": {
        "colab": {
          "base_uri": "https://localhost:8080/",
          "height": 357
        },
        "id": "EBQeBdU45Q8S",
        "outputId": "6f7aaeca-8f99-4c3e-df8e-18822918ca30"
      },
      "execution_count": 25,
      "outputs": [
        {
          "output_type": "display_data",
          "data": {
            "text/plain": [
              "<Figure size 720x360 with 1 Axes>"
            ],
            "image/png": "[encoded data removed]"
          },
          "metadata": {
            "needs_background": "light"
          }
        }
      ]
    },
    {
      "cell_type": "markdown",
      "source": [
        "* Aquí podemos ver que existe una fuerte tendencia respecto a los 'Supermercados tipo 1', quienes manejan una variedad de maás de 5000 productos, contra los otros tipos de tiendas, con un promedio aproximado de 1000 productos."
      ],
      "metadata": {
        "id": "fZTvzlOQBWdN"
      }
    },
    {
      "cell_type": "code",
      "source": [
        "# Gráfico de barras de volumen en ventas por outlet, tipo y tamaño\n",
        "(df.groupby(['Outlet_Identifier','Outlet_Type','Outlet_Size'])['Item_Outlet_Sales'].sum()).plot(kind = 'barh')\n",
        "plt.title('Ventas por tienda y tamaño', fontsize=16);"
      ],
      "metadata": {
        "colab": {
          "base_uri": "https://localhost:8080/",
          "height": 296
        },
        "id": "941KaQSE8Rfk",
        "outputId": "17489ad7-221e-4c01-97f2-68263dcfe60b"
      },
      "execution_count": 26,
      "outputs": [
        {
          "output_type": "display_data",
          "data": {
            "text/plain": [
              "<Figure size 432x288 with 1 Axes>"
            ],
            "image/png": "[encoded data removed]"
          },
          "metadata": {
            "needs_background": "light"
          }
        }
      ]
    },
    {
      "cell_type": "markdown",
      "source": [
        "* En el anterior gráfico notamos que el volumen de ventas en cada tienda es constante para la mayoría, excepto para las tiendas pequeñas que venden notablemente más poco; ni para el supermercado de tipo 3, que vende visiblemente más que el resto, a pesar de estar catalogado en tamaño mediano."
      ],
      "metadata": {
        "id": "7_l77kJzBbTu"
      }
    },
    {
      "cell_type": "code",
      "source": [
        "# Gráfico circular de volumen de ventas por contenido graso del producto\n",
        "x = df.groupby('Item_Fat_Content')['Item_Outlet_Sales'].sum()\n",
        "labels = ['Low Fat', 'Regular']\n",
        "colors = ['tab:cyan', 'tab:gray']\n",
        "\n",
        "fig, ax = plt.subplots(dpi=100)\n",
        "ax.pie(x, labels = labels, colors = colors, autopct='%.0f%%')\n",
        "ax.set_title('Ventas por contenido de graso del producto')\n",
        "plt.show()"
      ],
      "metadata": {
        "colab": {
          "base_uri": "https://localhost:8080/",
          "height": 361
        },
        "id": "XsFlXDKc4rYO",
        "outputId": "a82cc972-d697-4087-e7e8-fcf09b4fba25"
      },
      "execution_count": 27,
      "outputs": [
        {
          "output_type": "display_data",
          "data": {
            "text/plain": [
              "<Figure size 600x400 with 1 Axes>"
            ],
            "image/png": "[encoded data removed]"
          },
          "metadata": {}
        }
      ]
    },
    {
      "cell_type": "markdown",
      "source": [
        "* Los productos bajos en grasa representan mayor volumen de ventas; lo cual tiene sentido en el hecho de que se tiene mayor catálogo de productos bajos en grasa. Pero se venden en las mismas proporciones."
      ],
      "metadata": {
        "id": "-1sIj3n_Bmf4"
      }
    },
    {
      "cell_type": "code",
      "source": [
        "# Gráfico de barras por visibilidad total de cada tipo de producto\n",
        "fig, ax = (plt.subplots(figsize = (10, 5)))\n",
        "((df.groupby('Item_Type')['Item_Visibility'].sum()).sort_values(ascending=False)).plot(kind = 'bar')\n",
        "plt.title('Visibilidad por tipo de producto', fontsize=16);"
      ],
      "metadata": {
        "colab": {
          "base_uri": "https://localhost:8080/",
          "height": 450
        },
        "id": "iWAlc4NCBoSB",
        "outputId": "116adb25-ac38-471d-b876-b58a6bef794d"
      },
      "execution_count": 28,
      "outputs": [
        {
          "output_type": "display_data",
          "data": {
            "text/plain": [
              "<Figure size 720x360 with 1 Axes>"
            ],
            "image/png": "[encoded data removed]"
          },
          "metadata": {
            "needs_background": "light"
          }
        }
      ]
    },
    {
      "cell_type": "markdown",
      "source": [
        "* Podemos observar que la visibilidad de los tipos de productos es más o menos proporcional al volumen de ventas de los productos, en ese sentido, estarían bien distribuidas los productos en las tiendas."
      ],
      "metadata": {
        "id": "2cIv4UAcExyF"
      }
    },
    {
      "cell_type": "code",
      "source": [
        "# Volumen de ventas por tipo de producto\n",
        "fig, ax = (plt.subplots(figsize = (10, 5)))\n",
        "(((df.groupby('Item_Type')['Item_Outlet_Sales'].sum()).sort_values(ascending = False))).plot(kind = 'bar')\n",
        "plt.title('Volumen de ventas por tipos de productos', fontsize=16);"
      ],
      "metadata": {
        "colab": {
          "base_uri": "https://localhost:8080/",
          "height": 450
        },
        "id": "64WDmUtsFCtl",
        "outputId": "aee8e304-a605-4961-b6bd-3af3804159cd"
      },
      "execution_count": 29,
      "outputs": [
        {
          "output_type": "display_data",
          "data": {
            "text/plain": [
              "<Figure size 720x360 with 1 Axes>"
            ],
            "image/png": "[encoded data removed]"
          },
          "metadata": {
            "needs_background": "light"
          }
        }
      ]
    },
    {
      "cell_type": "markdown",
      "source": [
        "* Podemos ver en orden descendente los tipos de productos más vendidos a menos vendidos"
      ],
      "metadata": {
        "id": "ooI293j_HTVi"
      }
    },
    {
      "cell_type": "markdown",
      "source": [
        "Se decide montar una nueva columna en una copia del dataframe diviendo el volumen de ventas por ítem entre su precio máximo (MRP), redondeamos hacia para tener una idea más detallada sobre las salidas en cantidad de cada producto."
      ],
      "metadata": {
        "id": "mBTKzKYRHWsd"
      }
    },
    {
      "cell_type": "code",
      "source": [
        "# Crear un nuevo df\n",
        "df2 = df.copy()\n",
        "\n",
        "# Nueva columna en df2\n",
        "df2['Quantity']=round(df2['Item_Outlet_Sales']/df2['Item_MRP'],0)\n",
        "df2.head()"
      ],
      "metadata": {
        "colab": {
          "base_uri": "https://localhost:8080/",
          "height": 337
        },
        "id": "o6TOCWb5HTfK",
        "outputId": "4fcddd05-4ce3-45e8-acd7-cb9c18927585"
      },
      "execution_count": 30,
      "outputs": [
        {
          "output_type": "execute_result",
          "data": {
            "text/plain": [
              "  Item_Identifier  Item_Weight Item_Fat_Content  Item_Visibility  \\\n",
              "0           FDA15         9.30          Low Fat         0.016047   \n",
              "1           DRC01         5.92          Regular         0.019278   \n",
              "2           FDN15        17.50          Low Fat         0.016760   \n",
              "3           FDX07        19.20          Regular         0.000000   \n",
              "4           NCD19         8.93          Low Fat         0.000000   \n",
              "\n",
              "               Item_Type  Item_MRP Outlet_Identifier  \\\n",
              "0                  Dairy  249.8092            OUT049   \n",
              "1            Soft Drinks   48.2692            OUT018   \n",
              "2                   Meat  141.6180            OUT049   \n",
              "3  Fruits and Vegetables  182.0950            OUT010   \n",
              "4              Household   53.8614            OUT013   \n",
              "\n",
              "   Outlet_Establishment_Year Outlet_Size Outlet_Location_Type  \\\n",
              "0                       1999      Medium               Tier 1   \n",
              "1                       2009      Medium               Tier 3   \n",
              "2                       1999      Medium               Tier 1   \n",
              "3                       1998         NaN               Tier 3   \n",
              "4                       1987        High               Tier 3   \n",
              "\n",
              "         Outlet_Type  Item_Outlet_Sales  Quantity  \n",
              "0  Supermarket Type1          3735.1380      15.0  \n",
              "1  Supermarket Type2           443.4228       9.0  \n",
              "2  Supermarket Type1          2097.2700      15.0  \n",
              "3      Grocery Store           732.3800       4.0  \n",
              "4  Supermarket Type1           994.7052      18.0  "
            ],
            "text/html": [
              "\n",
              "  <div id=\"df-6612bae0-60f0-48da-9102-f5c8e850830f\">\n",
              "    <div class=\"colab-df-container\">\n",
              "      <div>\n",
              "<style scoped>\n",
              "    .dataframe tbody tr th:only-of-type {\n",
              "        vertical-align: middle;\n",
              "    }\n",
              "\n",
              "    .dataframe tbody tr th {\n",
              "        vertical-align: top;\n",
              "    }\n",
              "\n",
              "    .dataframe thead th {\n",
              "        text-align: right;\n",
              "    }\n",
              "</style>\n",
              "<table border=\"1\" class=\"dataframe\">\n",
              "  <thead>\n",
              "    <tr style=\"text-align: right;\">\n",
              "      <th></th>\n",
              "      <th>Item_Identifier</th>\n",
              "      <th>Item_Weight</th>\n",
              "      <th>Item_Fat_Content</th>\n",
              "      <th>Item_Visibility</th>\n",
              "      <th>Item_Type</th>\n",
              "      <th>Item_MRP</th>\n",
              "      <th>Outlet_Identifier</th>\n",
              "      <th>Outlet_Establishment_Year</th>\n",
              "      <th>Outlet_Size</th>\n",
              "      <th>Outlet_Location_Type</th>\n",
              "      <th>Outlet_Type</th>\n",
              "      <th>Item_Outlet_Sales</th>\n",
              "      <th>Quantity</th>\n",
              "    </tr>\n",
              "  </thead>\n",
              "  <tbody>\n",
              "    <tr>\n",
              "      <th>0</th>\n",
              "      <td>FDA15</td>\n",
              "      <td>9.30</td>\n",
              "      <td>Low Fat</td>\n",
              "      <td>0.016047</td>\n",
              "      <td>Dairy</td>\n",
              "      <td>249.8092</td>\n",
              "      <td>OUT049</td>\n",
              "      <td>1999</td>\n",
              "      <td>Medium</td>\n",
              "      <td>Tier 1</td>\n",
              "      <td>Supermarket Type1</td>\n",
              "      <td>3735.1380</td>\n",
              "      <td>15.0</td>\n",
              "    </tr>\n",
              "    <tr>\n",
              "      <th>1</th>\n",
              "      <td>DRC01</td>\n",
              "      <td>5.92</td>\n",
              "      <td>Regular</td>\n",
              "      <td>0.019278</td>\n",
              "      <td>Soft Drinks</td>\n",
              "      <td>48.2692</td>\n",
              "      <td>OUT018</td>\n",
              "      <td>2009</td>\n",
              "      <td>Medium</td>\n",
              "      <td>Tier 3</td>\n",
              "      <td>Supermarket Type2</td>\n",
              "      <td>443.4228</td>\n",
              "      <td>9.0</td>\n",
              "    </tr>\n",
              "    <tr>\n",
              "      <th>2</th>\n",
              "      <td>FDN15</td>\n",
              "      <td>17.50</td>\n",
              "      <td>Low Fat</td>\n",
              "      <td>0.016760</td>\n",
              "      <td>Meat</td>\n",
              "      <td>141.6180</td>\n",
              "      <td>OUT049</td>\n",
              "      <td>1999</td>\n",
              "      <td>Medium</td>\n",
              "      <td>Tier 1</td>\n",
              "      <td>Supermarket Type1</td>\n",
              "      <td>2097.2700</td>\n",
              "      <td>15.0</td>\n",
              "    </tr>\n",
              "    <tr>\n",
              "      <th>3</th>\n",
              "      <td>FDX07</td>\n",
              "      <td>19.20</td>\n",
              "      <td>Regular</td>\n",
              "      <td>0.000000</td>\n",
              "      <td>Fruits and Vegetables</td>\n",
              "      <td>182.0950</td>\n",
              "      <td>OUT010</td>\n",
              "      <td>1998</td>\n",
              "      <td>NaN</td>\n",
              "      <td>Tier 3</td>\n",
              "      <td>Grocery Store</td>\n",
              "      <td>732.3800</td>\n",
              "      <td>4.0</td>\n",
              "    </tr>\n",
              "    <tr>\n",
              "      <th>4</th>\n",
              "      <td>NCD19</td>\n",
              "      <td>8.93</td>\n",
              "      <td>Low Fat</td>\n",
              "      <td>0.000000</td>\n",
              "      <td>Household</td>\n",
              "      <td>53.8614</td>\n",
              "      <td>OUT013</td>\n",
              "      <td>1987</td>\n",
              "      <td>High</td>\n",
              "      <td>Tier 3</td>\n",
              "      <td>Supermarket Type1</td>\n",
              "      <td>994.7052</td>\n",
              "      <td>18.0</td>\n",
              "    </tr>\n",
              "  </tbody>\n",
              "</table>\n",
              "</div>\n",
              "      <button class=\"colab-df-convert\" onclick=\"convertToInteractive('df-6612bae0-60f0-48da-9102-f5c8e850830f')\"\n",
              "              title=\"Convert this dataframe to an interactive table.\"\n",
              "              style=\"display:none;\">\n",
              "        \n",
              "  <svg xmlns=\"http://www.w3.org/2000/svg\" height=\"24px\"viewBox=\"0 0 24 24\"\n",
              "       width=\"24px\">\n",
              "    <path d=\"M0 0h24v24H0V0z\" fill=\"none\"/>\n",
              "    <path d=\"M18.56 5.44l.94 2.06.94-2.06 2.06-.94-2.06-.94-.94-2.06-.94 2.06-2.06.94zm-11 1L8.5 8.5l.94-2.06 2.06-.94-2.06-.94L8.5 2.5l-.94 2.06-2.06.94zm10 10l.94 2.06.94-2.06 2.06-.94-2.06-.94-.94-2.06-.94 2.06-2.06.94z\"/><path d=\"M17.41 7.96l-1.37-1.37c-.4-.4-.92-.59-1.43-.59-.52 0-1.04.2-1.43.59L10.3 9.45l-7.72 7.72c-.78.78-.78 2.05 0 2.83L4 21.41c.39.39.9.59 1.41.59.51 0 1.02-.2 1.41-.59l7.78-7.78 2.81-2.81c.8-.78.8-2.07 0-2.86zM5.41 20L4 18.59l7.72-7.72 1.47 1.35L5.41 20z\"/>\n",
              "  </svg>\n",
              "      </button>\n",
              "      \n",
              "  <style>\n",
              "    .colab-df-container {\n",
              "      display:flex;\n",
              "      flex-wrap:wrap;\n",
              "      gap: 12px;\n",
              "    }\n",
              "\n",
              "    .colab-df-convert {\n",
              "      background-color: #E8F0FE;\n",
              "      border: none;\n",
              "      border-radius: 50%;\n",
              "      cursor: pointer;\n",
              "      display: none;\n",
              "      fill: #1967D2;\n",
              "      height: 32px;\n",
              "      padding: 0 0 0 0;\n",
              "      width: 32px;\n",
              "    }\n",
              "\n",
              "    .colab-df-convert:hover {\n",
              "      background-color: #E2EBFA;\n",
              "      box-shadow: 0px 1px 2px rgba(60, 64, 67, 0.3), 0px 1px 3px 1px rgba(60, 64, 67, 0.15);\n",
              "      fill: #174EA6;\n",
              "    }\n",
              "\n",
              "    [theme=dark] .colab-df-convert {\n",
              "      background-color: #3B4455;\n",
              "      fill: #D2E3FC;\n",
              "    }\n",
              "\n",
              "    [theme=dark] .colab-df-convert:hover {\n",
              "      background-color: #434B5C;\n",
              "      box-shadow: 0px 1px 3px 1px rgba(0, 0, 0, 0.15);\n",
              "      filter: drop-shadow(0px 1px 2px rgba(0, 0, 0, 0.3));\n",
              "      fill: #FFFFFF;\n",
              "    }\n",
              "  </style>\n",
              "\n",
              "      <script>\n",
              "        const buttonEl =\n",
              "          document.querySelector('#df-6612bae0-60f0-48da-9102-f5c8e850830f button.colab-df-convert');\n",
              "        buttonEl.style.display =\n",
              "          google.colab.kernel.accessAllowed ? 'block' : 'none';\n",
              "\n",
              "        async function convertToInteractive(key) {\n",
              "          const element = document.querySelector('#df-6612bae0-60f0-48da-9102-f5c8e850830f');\n",
              "          const dataTable =\n",
              "            await google.colab.kernel.invokeFunction('convertToInteractive',\n",
              "                                                     [key], {});\n",
              "          if (!dataTable) return;\n",
              "\n",
              "          const docLinkHtml = 'Like what you see? Visit the ' +\n",
              "            '<a target=\"_blank\" href=https://colab.research.google.com/notebooks/data_table.ipynb>data table notebook</a>'\n",
              "            + ' to learn more about interactive tables.';\n",
              "          element.innerHTML = '';\n",
              "          dataTable['output_type'] = 'display_data';\n",
              "          await google.colab.output.renderOutput(dataTable, element);\n",
              "          const docLink = document.createElement('div');\n",
              "          docLink.innerHTML = docLinkHtml;\n",
              "          element.appendChild(docLink);\n",
              "        }\n",
              "      </script>\n",
              "    </div>\n",
              "  </div>\n",
              "  "
            ]
          },
          "metadata": {},
          "execution_count": 30
        }
      ]
    },
    {
      "cell_type": "code",
      "source": [
        "# Comparación de precios unitarios por contenido graso de los productos\n",
        "sns.boxplot(x='Item_Fat_Content', y='Item_MRP', data=df, color = 'gray')\n",
        "plt.title('Precios unitarios por contenido graso', fontsize=16);"
      ],
      "metadata": {
        "colab": {
          "base_uri": "https://localhost:8080/",
          "height": 298
        },
        "id": "CnaV6YEVIaMv",
        "outputId": "45f5f13d-897b-4948-d057-6e3de8a83351"
      },
      "execution_count": 31,
      "outputs": [
        {
          "output_type": "display_data",
          "data": {
            "text/plain": [
              "<Figure size 432x288 with 1 Axes>"
            ],
            "image/png": "[encoded data removed]"
          },
          "metadata": {
            "needs_background": "light"
          }
        }
      ]
    },
    {
      "cell_type": "markdown",
      "source": [
        "* Los precios para ambas categorías son relativamente iguales, incluso siendo ligeramente más altos los precios de productos regulares; esto podría indicar una preferencia por los bajos en grasa, ya que normalmente son un poco más costosos que los regulares y, para este caso, no es así y aún así representan más del 60% de las ventas."
      ],
      "metadata": {
        "id": "bakLwVhpJsVI"
      }
    },
    {
      "cell_type": "code",
      "source": [
        "# Comparación de cantidades vendidas por tipo de producto\n",
        "sns.boxplot(x='Item_Type', y='Quantity', data=df2)\n",
        "plt.xticks(rotation = 90)"
      ],
      "metadata": {
        "colab": {
          "base_uri": "https://localhost:8080/",
          "height": 415
        },
        "id": "NtVaRT4gK2Xu",
        "outputId": "320ac59f-2df7-457d-fd14-9ad0e91b5c03"
      },
      "execution_count": 32,
      "outputs": [
        {
          "output_type": "execute_result",
          "data": {
            "text/plain": [
              "(array([ 0,  1,  2,  3,  4,  5,  6,  7,  8,  9, 10, 11, 12, 13, 14, 15]),\n",
              " <a list of 16 Text major ticklabel objects>)"
            ]
          },
          "metadata": {},
          "execution_count": 32
        },
        {
          "output_type": "display_data",
          "data": {
            "text/plain": [
              "<Figure size 432x288 with 1 Axes>"
            ],
            "image/png": "[encoded data removed]"
          },
          "metadata": {
            "needs_background": "light"
          }
        }
      ]
    },
    {
      "cell_type": "markdown",
      "source": [
        "* Notamos que la mayoría de las categorías se vende en las mismas proporciones, excepto por algunos datos atípicos, mayormente en lácteos, frutas y vegetales, snacks, etc. Pero es muy estable la distribución de los datos en general.\n",
        "No hay datos atípicos en comida de mar únicamente, se podría decir que no se hacen grandes compras de esto; para lo demás si puede pasar.\n",
        "Esto también podría analizarse para tiendas específicas."
      ],
      "metadata": {
        "id": "Aj02oy7KLBjm"
      }
    },
    {
      "cell_type": "markdown",
      "source": [
        "## ⚙️ **IV. Preprocesamiento de los datos**"
      ],
      "metadata": {
        "id": "iadWK-qNzoXN"
      }
    },
    {
      "cell_type": "markdown",
      "source": [
        "Si se desea saber ¿qué tan bien se pueden predecir las ventas de productos en varias basándose en el resto de características? Designaremos la columna objetivo a *Item Outlet Sales*"
      ],
      "metadata": {
        "id": "wXfu2Vz-xhlt"
      }
    },
    {
      "cell_type": "code",
      "source": [
        "# Chequear número de datos únicos de cada columna\n",
        "df.nunique()"
      ],
      "metadata": {
        "colab": {
          "base_uri": "https://localhost:8080/"
        },
        "id": "9iI1fHc-ewa5",
        "outputId": "7c98d48d-3f72-4840-a2d8-7b752ae019be"
      },
      "execution_count": 33,
      "outputs": [
        {
          "output_type": "execute_result",
          "data": {
            "text/plain": [
              "Item_Identifier              1559\n",
              "Item_Weight                   416\n",
              "Item_Fat_Content                2\n",
              "Item_Visibility              7880\n",
              "Item_Type                      16\n",
              "Item_MRP                     5938\n",
              "Outlet_Identifier              10\n",
              "Outlet_Establishment_Year       9\n",
              "Outlet_Size                     3\n",
              "Outlet_Location_Type            3\n",
              "Outlet_Type                     4\n",
              "Item_Outlet_Sales            3493\n",
              "dtype: int64"
            ]
          },
          "metadata": {},
          "execution_count": 33
        }
      ]
    },
    {
      "cell_type": "markdown",
      "source": [
        "### **Tipos de características de las variables**\n",
        "\n",
        "**Ordinales:**\n",
        "* Item_Fat_content (Low Fat, Regular)\n",
        "* Outlet_Size (Small, Medium, High)\n",
        "\n",
        "**Nominales:**\n",
        "* Item_Identifier\n",
        "* Item_Type\n",
        "* Outlet_Identifier\n",
        "* Outlet_Location_Type (Tier 1, Tier 2, Tier 3) - orden desconocido\n",
        "* Outlet_Type (Grocery Store, Supermarket Type1, Supermarket Type2, Supermarket Type3) - orden desconocido\n",
        "\n",
        "**Numéricas:**\n",
        "* Item_Weight\n",
        "* Item_Visibility\n",
        "* Item_MRP\n",
        "* Outlet_Establishment_Year\n",
        "* Item_Outlet_Sales"
      ],
      "metadata": {
        "id": "3Ymoqfe-fMYR"
      }
    },
    {
      "cell_type": "markdown",
      "source": [
        "Se toma la decisión de convertir algunas categorías categóricas a numéricas ordinales para poder visualizar algunas relaciones entre sí, ya que sobre todo son categorías de tamaño, lo cual se puede representar numéricamente de más pequeñas a más grandes."
      ],
      "metadata": {
        "id": "cBfvZSJh5uSH"
      }
    },
    {
      "cell_type": "code",
      "source": [
        "# Realizar reemplazo de variables categóricas\n",
        "df['Item_Fat_Content'].replace({'Low Fat': 0, 'Regular': 1}, inplace = True)\n",
        "df['Outlet_Size'].replace({'Small': 1, 'Medium': 2, 'High': 3}, inplace = True)"
      ],
      "metadata": {
        "id": "m5rszDal5nhP"
      },
      "execution_count": 34,
      "outputs": []
    },
    {
      "cell_type": "code",
      "source": [
        "# Eliminamos la columna de Item_Identifier ya que posee 1559 variables nominales y hará más difícil hacer una correcta predicción\n",
        "# Aparentemente no es tan necesaria, podemos guiarnos por el tipo de producto y otras características\n",
        "df.drop(columns = 'Item_Identifier', inplace = True)"
      ],
      "metadata": {
        "id": "qWs3SqmthcKI"
      },
      "execution_count": 35,
      "outputs": []
    },
    {
      "cell_type": "code",
      "source": [
        "# División de la validación\n",
        "X = df.drop('Item_Outlet_Sales', axis=1)\n",
        "y = df['Item_Outlet_Sales']\n",
        "X_train, X_test, y_train, y_test = train_test_split(X, y, random_state=42)"
      ],
      "metadata": {
        "id": "PgO2ZieAxhDp"
      },
      "execution_count": 36,
      "outputs": []
    },
    {
      "cell_type": "code",
      "source": [
        "# Instanciar selectores de columnas\n",
        "cat_selector = make_column_selector(dtype_include='object')\n",
        "num_selector = make_column_selector(dtype_include='number')"
      ],
      "metadata": {
        "id": "y6NI7MyZx9fj"
      },
      "execution_count": 37,
      "outputs": []
    },
    {
      "cell_type": "code",
      "source": [
        "## Instanciar transformadores\n",
        "# Imputers\n",
        "freq_imputer = SimpleImputer(strategy='most_frequent') # Outlet_Size\n",
        "# Scaler\n",
        "scaler = StandardScaler()\n",
        "# One-hot encoder\n",
        "ohe = OneHotEncoder(handle_unknown='ignore', sparse=False)"
      ],
      "metadata": {
        "id": "rtNvbJE9x-he"
      },
      "execution_count": 38,
      "outputs": []
    },
    {
      "cell_type": "code",
      "source": [
        "# Pipeline numérico\n",
        "numeric_pipe = make_pipeline(freq_imputer, scaler)\n",
        "numeric_pipe"
      ],
      "metadata": {
        "colab": {
          "base_uri": "https://localhost:8080/",
          "height": 126
        },
        "id": "7Em7QPBkyTxB",
        "outputId": "dfd0785a-401f-488a-80cf-c90f6c555b04"
      },
      "execution_count": 39,
      "outputs": [
        {
          "output_type": "execute_result",
          "data": {
            "text/plain": [
              "Pipeline(steps=[('simpleimputer', SimpleImputer(strategy='most_frequent')),\n",
              "                ('standardscaler', StandardScaler())])"
            ],
            "text/html": [
              "<style>#sk-8cc04a52-bdf3-41df-a0f9-f3c076dc9075 {color: black;background-color: white;}#sk-8cc04a52-bdf3-41df-a0f9-f3c076dc9075 pre{padding: 0;}#sk-8cc04a52-bdf3-41df-a0f9-f3c076dc9075 div.sk-toggleable {background-color: white;}#sk-8cc04a52-bdf3-41df-a0f9-f3c076dc9075 label.sk-toggleable__label {cursor: pointer;display: block;width: 100%;margin-bottom: 0;padding: 0.3em;box-sizing: border-box;text-align: center;}#sk-8cc04a52-bdf3-41df-a0f9-f3c076dc9075 label.sk-toggleable__label-arrow:before {content: \"▸\";float: left;margin-right: 0.25em;color: #696969;}#sk-8cc04a52-bdf3-41df-a0f9-f3c076dc9075 label.sk-toggleable__label-arrow:hover:before {color: black;}#sk-8cc04a52-bdf3-41df-a0f9-f3c076dc9075 div.sk-estimator:hover label.sk-toggleable__label-arrow:before {color: black;}#sk-8cc04a52-bdf3-41df-a0f9-f3c076dc9075 div.sk-toggleable__content {max-height: 0;max-width: 0;overflow: hidden;text-align: left;background-color: #f0f8ff;}#sk-8cc04a52-bdf3-41df-a0f9-f3c076dc9075 div.sk-toggleable__content pre {margin: 0.2em;color: black;border-radius: 0.25em;background-color: #f0f8ff;}#sk-8cc04a52-bdf3-41df-a0f9-f3c076dc9075 input.sk-toggleable__control:checked~div.sk-toggleable__content {max-height: 200px;max-width: 100%;overflow: auto;}#sk-8cc04a52-bdf3-41df-a0f9-f3c076dc9075 input.sk-toggleable__control:checked~label.sk-toggleable__label-arrow:before {content: \"▾\";}#sk-8cc04a52-bdf3-41df-a0f9-f3c076dc9075 div.sk-estimator input.sk-toggleable__control:checked~label.sk-toggleable__label {background-color: #d4ebff;}#sk-8cc04a52-bdf3-41df-a0f9-f3c076dc9075 div.sk-label input.sk-toggleable__control:checked~label.sk-toggleable__label {background-color: #d4ebff;}#sk-8cc04a52-bdf3-41df-a0f9-f3c076dc9075 input.sk-hidden--visually {border: 0;clip: rect(1px 1px 1px 1px);clip: rect(1px, 1px, 1px, 1px);height: 1px;margin: -1px;overflow: hidden;padding: 0;position: absolute;width: 1px;}#sk-8cc04a52-bdf3-41df-a0f9-f3c076dc9075 div.sk-estimator {font-family: monospace;background-color: #f0f8ff;border: 1px dotted black;border-radius: 0.25em;box-sizing: border-box;margin-bottom: 0.5em;}#sk-8cc04a52-bdf3-41df-a0f9-f3c076dc9075 div.sk-estimator:hover {background-color: #d4ebff;}#sk-8cc04a52-bdf3-41df-a0f9-f3c076dc9075 div.sk-parallel-item::after {content: \"\";width: 100%;border-bottom: 1px solid gray;flex-grow: 1;}#sk-8cc04a52-bdf3-41df-a0f9-f3c076dc9075 div.sk-label:hover label.sk-toggleable__label {background-color: #d4ebff;}#sk-8cc04a52-bdf3-41df-a0f9-f3c076dc9075 div.sk-serial::before {content: \"\";position: absolute;border-left: 1px solid gray;box-sizing: border-box;top: 2em;bottom: 0;left: 50%;}#sk-8cc04a52-bdf3-41df-a0f9-f3c076dc9075 div.sk-serial {display: flex;flex-direction: column;align-items: center;background-color: white;padding-right: 0.2em;padding-left: 0.2em;}#sk-8cc04a52-bdf3-41df-a0f9-f3c076dc9075 div.sk-item {z-index: 1;}#sk-8cc04a52-bdf3-41df-a0f9-f3c076dc9075 div.sk-parallel {display: flex;align-items: stretch;justify-content: center;background-color: white;}#sk-8cc04a52-bdf3-41df-a0f9-f3c076dc9075 div.sk-parallel::before {content: \"\";position: absolute;border-left: 1px solid gray;box-sizing: border-box;top: 2em;bottom: 0;left: 50%;}#sk-8cc04a52-bdf3-41df-a0f9-f3c076dc9075 div.sk-parallel-item {display: flex;flex-direction: column;position: relative;background-color: white;}#sk-8cc04a52-bdf3-41df-a0f9-f3c076dc9075 div.sk-parallel-item:first-child::after {align-self: flex-end;width: 50%;}#sk-8cc04a52-bdf3-41df-a0f9-f3c076dc9075 div.sk-parallel-item:last-child::after {align-self: flex-start;width: 50%;}#sk-8cc04a52-bdf3-41df-a0f9-f3c076dc9075 div.sk-parallel-item:only-child::after {width: 0;}#sk-8cc04a52-bdf3-41df-a0f9-f3c076dc9075 div.sk-dashed-wrapped {border: 1px dashed gray;margin: 0 0.4em 0.5em 0.4em;box-sizing: border-box;padding-bottom: 0.4em;background-color: white;position: relative;}#sk-8cc04a52-bdf3-41df-a0f9-f3c076dc9075 div.sk-label label {font-family: monospace;font-weight: bold;background-color: white;display: inline-block;line-height: 1.2em;}#sk-8cc04a52-bdf3-41df-a0f9-f3c076dc9075 div.sk-label-container {position: relative;z-index: 2;text-align: center;}#sk-8cc04a52-bdf3-41df-a0f9-f3c076dc9075 div.sk-container {/* jupyter's `normalize.less` sets `[hidden] { display: none; }` but bootstrap.min.css set `[hidden] { display: none !important; }` so we also need the `!important` here to be able to override the default hidden behavior on the sphinx rendered scikit-learn.org. See: https://github.com/scikit-learn/scikit-learn/issues/21755 */display: inline-block !important;position: relative;}#sk-8cc04a52-bdf3-41df-a0f9-f3c076dc9075 div.sk-text-repr-fallback {display: none;}</style><div id=\"sk-8cc04a52-bdf3-41df-a0f9-f3c076dc9075\" class=\"sk-top-container\"><div class=\"sk-text-repr-fallback\"><pre>Pipeline(steps=[(&#x27;simpleimputer&#x27;, SimpleImputer(strategy=&#x27;most_frequent&#x27;)),\n",
              "                (&#x27;standardscaler&#x27;, StandardScaler())])</pre><b>Please rerun this cell to show the HTML repr or trust the notebook.</b></div><div class=\"sk-container\" hidden><div class=\"sk-item sk-dashed-wrapped\"><div class=\"sk-label-container\"><div class=\"sk-label sk-toggleable\"><input class=\"sk-toggleable__control sk-hidden--visually\" id=\"fbab4292-98fc-4aa5-8cf4-7152ed843251\" type=\"checkbox\" ><label for=\"fbab4292-98fc-4aa5-8cf4-7152ed843251\" class=\"sk-toggleable__label sk-toggleable__label-arrow\">Pipeline</label><div class=\"sk-toggleable__content\"><pre>Pipeline(steps=[(&#x27;simpleimputer&#x27;, SimpleImputer(strategy=&#x27;most_frequent&#x27;)),\n",
              "                (&#x27;standardscaler&#x27;, StandardScaler())])</pre></div></div></div><div class=\"sk-serial\"><div class=\"sk-item\"><div class=\"sk-estimator sk-toggleable\"><input class=\"sk-toggleable__control sk-hidden--visually\" id=\"acb48e03-910a-48fd-abaf-ed395b195069\" type=\"checkbox\" ><label for=\"acb48e03-910a-48fd-abaf-ed395b195069\" class=\"sk-toggleable__label sk-toggleable__label-arrow\">SimpleImputer</label><div class=\"sk-toggleable__content\"><pre>SimpleImputer(strategy=&#x27;most_frequent&#x27;)</pre></div></div></div><div class=\"sk-item\"><div class=\"sk-estimator sk-toggleable\"><input class=\"sk-toggleable__control sk-hidden--visually\" id=\"f28dfc57-e2cf-40c5-b3c8-0937bcd6f6bf\" type=\"checkbox\" ><label for=\"f28dfc57-e2cf-40c5-b3c8-0937bcd6f6bf\" class=\"sk-toggleable__label sk-toggleable__label-arrow\">StandardScaler</label><div class=\"sk-toggleable__content\"><pre>StandardScaler()</pre></div></div></div></div></div></div></div>"
            ]
          },
          "metadata": {},
          "execution_count": 39
        }
      ]
    },
    {
      "cell_type": "code",
      "source": [
        "# Pipeline categórico\n",
        "categorical_pipe = make_pipeline(freq_imputer, ohe)\n",
        "categorical_pipe"
      ],
      "metadata": {
        "colab": {
          "base_uri": "https://localhost:8080/",
          "height": 126
        },
        "id": "IP79iOmAyV6P",
        "outputId": "da3f789a-efbe-4c73-a423-001ca26710f5"
      },
      "execution_count": 40,
      "outputs": [
        {
          "output_type": "execute_result",
          "data": {
            "text/plain": [
              "Pipeline(steps=[('simpleimputer', SimpleImputer(strategy='most_frequent')),\n",
              "                ('onehotencoder',\n",
              "                 OneHotEncoder(handle_unknown='ignore', sparse=False))])"
            ],
            "text/html": [
              "<style>#sk-87398ebf-b0eb-43fa-8108-8331bb5e8be0 {color: black;background-color: white;}#sk-87398ebf-b0eb-43fa-8108-8331bb5e8be0 pre{padding: 0;}#sk-87398ebf-b0eb-43fa-8108-8331bb5e8be0 div.sk-toggleable {background-color: white;}#sk-87398ebf-b0eb-43fa-8108-8331bb5e8be0 label.sk-toggleable__label {cursor: pointer;display: block;width: 100%;margin-bottom: 0;padding: 0.3em;box-sizing: border-box;text-align: center;}#sk-87398ebf-b0eb-43fa-8108-8331bb5e8be0 label.sk-toggleable__label-arrow:before {content: \"▸\";float: left;margin-right: 0.25em;color: #696969;}#sk-87398ebf-b0eb-43fa-8108-8331bb5e8be0 label.sk-toggleable__label-arrow:hover:before {color: black;}#sk-87398ebf-b0eb-43fa-8108-8331bb5e8be0 div.sk-estimator:hover label.sk-toggleable__label-arrow:before {color: black;}#sk-87398ebf-b0eb-43fa-8108-8331bb5e8be0 div.sk-toggleable__content {max-height: 0;max-width: 0;overflow: hidden;text-align: left;background-color: #f0f8ff;}#sk-87398ebf-b0eb-43fa-8108-8331bb5e8be0 div.sk-toggleable__content pre {margin: 0.2em;color: black;border-radius: 0.25em;background-color: #f0f8ff;}#sk-87398ebf-b0eb-43fa-8108-8331bb5e8be0 input.sk-toggleable__control:checked~div.sk-toggleable__content {max-height: 200px;max-width: 100%;overflow: auto;}#sk-87398ebf-b0eb-43fa-8108-8331bb5e8be0 input.sk-toggleable__control:checked~label.sk-toggleable__label-arrow:before {content: \"▾\";}#sk-87398ebf-b0eb-43fa-8108-8331bb5e8be0 div.sk-estimator input.sk-toggleable__control:checked~label.sk-toggleable__label {background-color: #d4ebff;}#sk-87398ebf-b0eb-43fa-8108-8331bb5e8be0 div.sk-label input.sk-toggleable__control:checked~label.sk-toggleable__label {background-color: #d4ebff;}#sk-87398ebf-b0eb-43fa-8108-8331bb5e8be0 input.sk-hidden--visually {border: 0;clip: rect(1px 1px 1px 1px);clip: rect(1px, 1px, 1px, 1px);height: 1px;margin: -1px;overflow: hidden;padding: 0;position: absolute;width: 1px;}#sk-87398ebf-b0eb-43fa-8108-8331bb5e8be0 div.sk-estimator {font-family: monospace;background-color: #f0f8ff;border: 1px dotted black;border-radius: 0.25em;box-sizing: border-box;margin-bottom: 0.5em;}#sk-87398ebf-b0eb-43fa-8108-8331bb5e8be0 div.sk-estimator:hover {background-color: #d4ebff;}#sk-87398ebf-b0eb-43fa-8108-8331bb5e8be0 div.sk-parallel-item::after {content: \"\";width: 100%;border-bottom: 1px solid gray;flex-grow: 1;}#sk-87398ebf-b0eb-43fa-8108-8331bb5e8be0 div.sk-label:hover label.sk-toggleable__label {background-color: #d4ebff;}#sk-87398ebf-b0eb-43fa-8108-8331bb5e8be0 div.sk-serial::before {content: \"\";position: absolute;border-left: 1px solid gray;box-sizing: border-box;top: 2em;bottom: 0;left: 50%;}#sk-87398ebf-b0eb-43fa-8108-8331bb5e8be0 div.sk-serial {display: flex;flex-direction: column;align-items: center;background-color: white;padding-right: 0.2em;padding-left: 0.2em;}#sk-87398ebf-b0eb-43fa-8108-8331bb5e8be0 div.sk-item {z-index: 1;}#sk-87398ebf-b0eb-43fa-8108-8331bb5e8be0 div.sk-parallel {display: flex;align-items: stretch;justify-content: center;background-color: white;}#sk-87398ebf-b0eb-43fa-8108-8331bb5e8be0 div.sk-parallel::before {content: \"\";position: absolute;border-left: 1px solid gray;box-sizing: border-box;top: 2em;bottom: 0;left: 50%;}#sk-87398ebf-b0eb-43fa-8108-8331bb5e8be0 div.sk-parallel-item {display: flex;flex-direction: column;position: relative;background-color: white;}#sk-87398ebf-b0eb-43fa-8108-8331bb5e8be0 div.sk-parallel-item:first-child::after {align-self: flex-end;width: 50%;}#sk-87398ebf-b0eb-43fa-8108-8331bb5e8be0 div.sk-parallel-item:last-child::after {align-self: flex-start;width: 50%;}#sk-87398ebf-b0eb-43fa-8108-8331bb5e8be0 div.sk-parallel-item:only-child::after {width: 0;}#sk-87398ebf-b0eb-43fa-8108-8331bb5e8be0 div.sk-dashed-wrapped {border: 1px dashed gray;margin: 0 0.4em 0.5em 0.4em;box-sizing: border-box;padding-bottom: 0.4em;background-color: white;position: relative;}#sk-87398ebf-b0eb-43fa-8108-8331bb5e8be0 div.sk-label label {font-family: monospace;font-weight: bold;background-color: white;display: inline-block;line-height: 1.2em;}#sk-87398ebf-b0eb-43fa-8108-8331bb5e8be0 div.sk-label-container {position: relative;z-index: 2;text-align: center;}#sk-87398ebf-b0eb-43fa-8108-8331bb5e8be0 div.sk-container {/* jupyter's `normalize.less` sets `[hidden] { display: none; }` but bootstrap.min.css set `[hidden] { display: none !important; }` so we also need the `!important` here to be able to override the default hidden behavior on the sphinx rendered scikit-learn.org. See: https://github.com/scikit-learn/scikit-learn/issues/21755 */display: inline-block !important;position: relative;}#sk-87398ebf-b0eb-43fa-8108-8331bb5e8be0 div.sk-text-repr-fallback {display: none;}</style><div id=\"sk-87398ebf-b0eb-43fa-8108-8331bb5e8be0\" class=\"sk-top-container\"><div class=\"sk-text-repr-fallback\"><pre>Pipeline(steps=[(&#x27;simpleimputer&#x27;, SimpleImputer(strategy=&#x27;most_frequent&#x27;)),\n",
              "                (&#x27;onehotencoder&#x27;,\n",
              "                 OneHotEncoder(handle_unknown=&#x27;ignore&#x27;, sparse=False))])</pre><b>Please rerun this cell to show the HTML repr or trust the notebook.</b></div><div class=\"sk-container\" hidden><div class=\"sk-item sk-dashed-wrapped\"><div class=\"sk-label-container\"><div class=\"sk-label sk-toggleable\"><input class=\"sk-toggleable__control sk-hidden--visually\" id=\"349265de-10e4-4f32-9444-2a254cebf8fa\" type=\"checkbox\" ><label for=\"349265de-10e4-4f32-9444-2a254cebf8fa\" class=\"sk-toggleable__label sk-toggleable__label-arrow\">Pipeline</label><div class=\"sk-toggleable__content\"><pre>Pipeline(steps=[(&#x27;simpleimputer&#x27;, SimpleImputer(strategy=&#x27;most_frequent&#x27;)),\n",
              "                (&#x27;onehotencoder&#x27;,\n",
              "                 OneHotEncoder(handle_unknown=&#x27;ignore&#x27;, sparse=False))])</pre></div></div></div><div class=\"sk-serial\"><div class=\"sk-item\"><div class=\"sk-estimator sk-toggleable\"><input class=\"sk-toggleable__control sk-hidden--visually\" id=\"7fd5e6f9-ffe2-4c05-9303-b61c4fff8680\" type=\"checkbox\" ><label for=\"7fd5e6f9-ffe2-4c05-9303-b61c4fff8680\" class=\"sk-toggleable__label sk-toggleable__label-arrow\">SimpleImputer</label><div class=\"sk-toggleable__content\"><pre>SimpleImputer(strategy=&#x27;most_frequent&#x27;)</pre></div></div></div><div class=\"sk-item\"><div class=\"sk-estimator sk-toggleable\"><input class=\"sk-toggleable__control sk-hidden--visually\" id=\"91be4809-1e4b-4866-ae18-9dfdc0879a60\" type=\"checkbox\" ><label for=\"91be4809-1e4b-4866-ae18-9dfdc0879a60\" class=\"sk-toggleable__label sk-toggleable__label-arrow\">OneHotEncoder</label><div class=\"sk-toggleable__content\"><pre>OneHotEncoder(handle_unknown=&#x27;ignore&#x27;, sparse=False)</pre></div></div></div></div></div></div></div>"
            ]
          },
          "metadata": {},
          "execution_count": 40
        }
      ]
    },
    {
      "cell_type": "code",
      "source": [
        "## Instanciar ColumnTransformer\n",
        "# Tuples para Column Transformer\n",
        "number_tuple = (numeric_pipe, num_selector)\n",
        "category_tuple = (categorical_pipe, cat_selector)\n",
        "\n",
        "# ColumnTransformer\n",
        "preprocessor = make_column_transformer(number_tuple, category_tuple)\n",
        "preprocessor"
      ],
      "metadata": {
        "colab": {
          "base_uri": "https://localhost:8080/",
          "height": 152
        },
        "id": "BZ5bucxayXfA",
        "outputId": "64144c5e-7e1f-4161-8344-23a2030972b9"
      },
      "execution_count": 41,
      "outputs": [
        {
          "output_type": "execute_result",
          "data": {
            "text/plain": [
              "ColumnTransformer(transformers=[('pipeline-1',\n",
              "                                 Pipeline(steps=[('simpleimputer',\n",
              "                                                  SimpleImputer(strategy='most_frequent')),\n",
              "                                                 ('standardscaler',\n",
              "                                                  StandardScaler())]),\n",
              "                                 <sklearn.compose._column_transformer.make_column_selector object at 0x7f3e2c486d00>),\n",
              "                                ('pipeline-2',\n",
              "                                 Pipeline(steps=[('simpleimputer',\n",
              "                                                  SimpleImputer(strategy='most_frequent')),\n",
              "                                                 ('onehotencoder',\n",
              "                                                  OneHotEncoder(handle_unknown='ignore',\n",
              "                                                                sparse=False))]),\n",
              "                                 <sklearn.compose._column_transformer.make_column_selector object at 0x7f3e2c486d90>)])"
            ],
            "text/html": [
              "<style>#sk-e85b634c-a03d-47db-a4a2-bb7ddf7f1336 {color: black;background-color: white;}#sk-e85b634c-a03d-47db-a4a2-bb7ddf7f1336 pre{padding: 0;}#sk-e85b634c-a03d-47db-a4a2-bb7ddf7f1336 div.sk-toggleable {background-color: white;}#sk-e85b634c-a03d-47db-a4a2-bb7ddf7f1336 label.sk-toggleable__label {cursor: pointer;display: block;width: 100%;margin-bottom: 0;padding: 0.3em;box-sizing: border-box;text-align: center;}#sk-e85b634c-a03d-47db-a4a2-bb7ddf7f1336 label.sk-toggleable__label-arrow:before {content: \"▸\";float: left;margin-right: 0.25em;color: #696969;}#sk-e85b634c-a03d-47db-a4a2-bb7ddf7f1336 label.sk-toggleable__label-arrow:hover:before {color: black;}#sk-e85b634c-a03d-47db-a4a2-bb7ddf7f1336 div.sk-estimator:hover label.sk-toggleable__label-arrow:before {color: black;}#sk-e85b634c-a03d-47db-a4a2-bb7ddf7f1336 div.sk-toggleable__content {max-height: 0;max-width: 0;overflow: hidden;text-align: left;background-color: #f0f8ff;}#sk-e85b634c-a03d-47db-a4a2-bb7ddf7f1336 div.sk-toggleable__content pre {margin: 0.2em;color: black;border-radius: 0.25em;background-color: #f0f8ff;}#sk-e85b634c-a03d-47db-a4a2-bb7ddf7f1336 input.sk-toggleable__control:checked~div.sk-toggleable__content {max-height: 200px;max-width: 100%;overflow: auto;}#sk-e85b634c-a03d-47db-a4a2-bb7ddf7f1336 input.sk-toggleable__control:checked~label.sk-toggleable__label-arrow:before {content: \"▾\";}#sk-e85b634c-a03d-47db-a4a2-bb7ddf7f1336 div.sk-estimator input.sk-toggleable__control:checked~label.sk-toggleable__label {background-color: #d4ebff;}#sk-e85b634c-a03d-47db-a4a2-bb7ddf7f1336 div.sk-label input.sk-toggleable__control:checked~label.sk-toggleable__label {background-color: #d4ebff;}#sk-e85b634c-a03d-47db-a4a2-bb7ddf7f1336 input.sk-hidden--visually {border: 0;clip: rect(1px 1px 1px 1px);clip: rect(1px, 1px, 1px, 1px);height: 1px;margin: -1px;overflow: hidden;padding: 0;position: absolute;width: 1px;}#sk-e85b634c-a03d-47db-a4a2-bb7ddf7f1336 div.sk-estimator {font-family: monospace;background-color: #f0f8ff;border: 1px dotted black;border-radius: 0.25em;box-sizing: border-box;margin-bottom: 0.5em;}#sk-e85b634c-a03d-47db-a4a2-bb7ddf7f1336 div.sk-estimator:hover {background-color: #d4ebff;}#sk-e85b634c-a03d-47db-a4a2-bb7ddf7f1336 div.sk-parallel-item::after {content: \"\";width: 100%;border-bottom: 1px solid gray;flex-grow: 1;}#sk-e85b634c-a03d-47db-a4a2-bb7ddf7f1336 div.sk-label:hover label.sk-toggleable__label {background-color: #d4ebff;}#sk-e85b634c-a03d-47db-a4a2-bb7ddf7f1336 div.sk-serial::before {content: \"\";position: absolute;border-left: 1px solid gray;box-sizing: border-box;top: 2em;bottom: 0;left: 50%;}#sk-e85b634c-a03d-47db-a4a2-bb7ddf7f1336 div.sk-serial {display: flex;flex-direction: column;align-items: center;background-color: white;padding-right: 0.2em;padding-left: 0.2em;}#sk-e85b634c-a03d-47db-a4a2-bb7ddf7f1336 div.sk-item {z-index: 1;}#sk-e85b634c-a03d-47db-a4a2-bb7ddf7f1336 div.sk-parallel {display: flex;align-items: stretch;justify-content: center;background-color: white;}#sk-e85b634c-a03d-47db-a4a2-bb7ddf7f1336 div.sk-parallel::before {content: \"\";position: absolute;border-left: 1px solid gray;box-sizing: border-box;top: 2em;bottom: 0;left: 50%;}#sk-e85b634c-a03d-47db-a4a2-bb7ddf7f1336 div.sk-parallel-item {display: flex;flex-direction: column;position: relative;background-color: white;}#sk-e85b634c-a03d-47db-a4a2-bb7ddf7f1336 div.sk-parallel-item:first-child::after {align-self: flex-end;width: 50%;}#sk-e85b634c-a03d-47db-a4a2-bb7ddf7f1336 div.sk-parallel-item:last-child::after {align-self: flex-start;width: 50%;}#sk-e85b634c-a03d-47db-a4a2-bb7ddf7f1336 div.sk-parallel-item:only-child::after {width: 0;}#sk-e85b634c-a03d-47db-a4a2-bb7ddf7f1336 div.sk-dashed-wrapped {border: 1px dashed gray;margin: 0 0.4em 0.5em 0.4em;box-sizing: border-box;padding-bottom: 0.4em;background-color: white;position: relative;}#sk-e85b634c-a03d-47db-a4a2-bb7ddf7f1336 div.sk-label label {font-family: monospace;font-weight: bold;background-color: white;display: inline-block;line-height: 1.2em;}#sk-e85b634c-a03d-47db-a4a2-bb7ddf7f1336 div.sk-label-container {position: relative;z-index: 2;text-align: center;}#sk-e85b634c-a03d-47db-a4a2-bb7ddf7f1336 div.sk-container {/* jupyter's `normalize.less` sets `[hidden] { display: none; }` but bootstrap.min.css set `[hidden] { display: none !important; }` so we also need the `!important` here to be able to override the default hidden behavior on the sphinx rendered scikit-learn.org. See: https://github.com/scikit-learn/scikit-learn/issues/21755 */display: inline-block !important;position: relative;}#sk-e85b634c-a03d-47db-a4a2-bb7ddf7f1336 div.sk-text-repr-fallback {display: none;}</style><div id=\"sk-e85b634c-a03d-47db-a4a2-bb7ddf7f1336\" class=\"sk-top-container\"><div class=\"sk-text-repr-fallback\"><pre>ColumnTransformer(transformers=[(&#x27;pipeline-1&#x27;,\n",
              "                                 Pipeline(steps=[(&#x27;simpleimputer&#x27;,\n",
              "                                                  SimpleImputer(strategy=&#x27;most_frequent&#x27;)),\n",
              "                                                 (&#x27;standardscaler&#x27;,\n",
              "                                                  StandardScaler())]),\n",
              "                                 &lt;sklearn.compose._column_transformer.make_column_selector object at 0x7f3e2c486d00&gt;),\n",
              "                                (&#x27;pipeline-2&#x27;,\n",
              "                                 Pipeline(steps=[(&#x27;simpleimputer&#x27;,\n",
              "                                                  SimpleImputer(strategy=&#x27;most_frequent&#x27;)),\n",
              "                                                 (&#x27;onehotencoder&#x27;,\n",
              "                                                  OneHotEncoder(handle_unknown=&#x27;ignore&#x27;,\n",
              "                                                                sparse=False))]),\n",
              "                                 &lt;sklearn.compose._column_transformer.make_column_selector object at 0x7f3e2c486d90&gt;)])</pre><b>Please rerun this cell to show the HTML repr or trust the notebook.</b></div><div class=\"sk-container\" hidden><div class=\"sk-item sk-dashed-wrapped\"><div class=\"sk-label-container\"><div class=\"sk-label sk-toggleable\"><input class=\"sk-toggleable__control sk-hidden--visually\" id=\"8714b49f-8482-4df5-9b5e-b3aecccfed9c\" type=\"checkbox\" ><label for=\"8714b49f-8482-4df5-9b5e-b3aecccfed9c\" class=\"sk-toggleable__label sk-toggleable__label-arrow\">ColumnTransformer</label><div class=\"sk-toggleable__content\"><pre>ColumnTransformer(transformers=[(&#x27;pipeline-1&#x27;,\n",
              "                                 Pipeline(steps=[(&#x27;simpleimputer&#x27;,\n",
              "                                                  SimpleImputer(strategy=&#x27;most_frequent&#x27;)),\n",
              "                                                 (&#x27;standardscaler&#x27;,\n",
              "                                                  StandardScaler())]),\n",
              "                                 &lt;sklearn.compose._column_transformer.make_column_selector object at 0x7f3e2c486d00&gt;),\n",
              "                                (&#x27;pipeline-2&#x27;,\n",
              "                                 Pipeline(steps=[(&#x27;simpleimputer&#x27;,\n",
              "                                                  SimpleImputer(strategy=&#x27;most_frequent&#x27;)),\n",
              "                                                 (&#x27;onehotencoder&#x27;,\n",
              "                                                  OneHotEncoder(handle_unknown=&#x27;ignore&#x27;,\n",
              "                                                                sparse=False))]),\n",
              "                                 &lt;sklearn.compose._column_transformer.make_column_selector object at 0x7f3e2c486d90&gt;)])</pre></div></div></div><div class=\"sk-parallel\"><div class=\"sk-parallel-item\"><div class=\"sk-item\"><div class=\"sk-label-container\"><div class=\"sk-label sk-toggleable\"><input class=\"sk-toggleable__control sk-hidden--visually\" id=\"8dde6fa7-14c7-4d40-a589-b16a93c68bd3\" type=\"checkbox\" ><label for=\"8dde6fa7-14c7-4d40-a589-b16a93c68bd3\" class=\"sk-toggleable__label sk-toggleable__label-arrow\">pipeline-1</label><div class=\"sk-toggleable__content\"><pre>&lt;sklearn.compose._column_transformer.make_column_selector object at 0x7f3e2c486d00&gt;</pre></div></div></div><div class=\"sk-serial\"><div class=\"sk-item\"><div class=\"sk-serial\"><div class=\"sk-item\"><div class=\"sk-estimator sk-toggleable\"><input class=\"sk-toggleable__control sk-hidden--visually\" id=\"20833242-fbe8-4130-8ae7-c7326cb3298b\" type=\"checkbox\" ><label for=\"20833242-fbe8-4130-8ae7-c7326cb3298b\" class=\"sk-toggleable__label sk-toggleable__label-arrow\">SimpleImputer</label><div class=\"sk-toggleable__content\"><pre>SimpleImputer(strategy=&#x27;most_frequent&#x27;)</pre></div></div></div><div class=\"sk-item\"><div class=\"sk-estimator sk-toggleable\"><input class=\"sk-toggleable__control sk-hidden--visually\" id=\"d58842fb-e387-4fda-aaa1-ba0b0699cf39\" type=\"checkbox\" ><label for=\"d58842fb-e387-4fda-aaa1-ba0b0699cf39\" class=\"sk-toggleable__label sk-toggleable__label-arrow\">StandardScaler</label><div class=\"sk-toggleable__content\"><pre>StandardScaler()</pre></div></div></div></div></div></div></div></div><div class=\"sk-parallel-item\"><div class=\"sk-item\"><div class=\"sk-label-container\"><div class=\"sk-label sk-toggleable\"><input class=\"sk-toggleable__control sk-hidden--visually\" id=\"bfdaedfc-1412-4014-9cbd-acada1351b4c\" type=\"checkbox\" ><label for=\"bfdaedfc-1412-4014-9cbd-acada1351b4c\" class=\"sk-toggleable__label sk-toggleable__label-arrow\">pipeline-2</label><div class=\"sk-toggleable__content\"><pre>&lt;sklearn.compose._column_transformer.make_column_selector object at 0x7f3e2c486d90&gt;</pre></div></div></div><div class=\"sk-serial\"><div class=\"sk-item\"><div class=\"sk-serial\"><div class=\"sk-item\"><div class=\"sk-estimator sk-toggleable\"><input class=\"sk-toggleable__control sk-hidden--visually\" id=\"4150044a-fe76-47c3-87a5-4794f8bfc398\" type=\"checkbox\" ><label for=\"4150044a-fe76-47c3-87a5-4794f8bfc398\" class=\"sk-toggleable__label sk-toggleable__label-arrow\">SimpleImputer</label><div class=\"sk-toggleable__content\"><pre>SimpleImputer(strategy=&#x27;most_frequent&#x27;)</pre></div></div></div><div class=\"sk-item\"><div class=\"sk-estimator sk-toggleable\"><input class=\"sk-toggleable__control sk-hidden--visually\" id=\"5985da53-7cce-4d81-9f25-0b198da8cb4a\" type=\"checkbox\" ><label for=\"5985da53-7cce-4d81-9f25-0b198da8cb4a\" class=\"sk-toggleable__label sk-toggleable__label-arrow\">OneHotEncoder</label><div class=\"sk-toggleable__content\"><pre>OneHotEncoder(handle_unknown=&#x27;ignore&#x27;, sparse=False)</pre></div></div></div></div></div></div></div></div></div></div></div></div>"
            ]
          },
          "metadata": {},
          "execution_count": 41
        }
      ]
    },
    {
      "cell_type": "code",
      "source": [
        "## Transformador de datos\n",
        "# fit on train\n",
        "preprocessor.fit(X_train)"
      ],
      "metadata": {
        "colab": {
          "base_uri": "https://localhost:8080/",
          "height": 152
        },
        "id": "e0M2y8B4yapN",
        "outputId": "1cc093b1-d5dd-4d38-c523-36024669098f"
      },
      "execution_count": 42,
      "outputs": [
        {
          "output_type": "execute_result",
          "data": {
            "text/plain": [
              "ColumnTransformer(transformers=[('pipeline-1',\n",
              "                                 Pipeline(steps=[('simpleimputer',\n",
              "                                                  SimpleImputer(strategy='most_frequent')),\n",
              "                                                 ('standardscaler',\n",
              "                                                  StandardScaler())]),\n",
              "                                 <sklearn.compose._column_transformer.make_column_selector object at 0x7f3e2c486d00>),\n",
              "                                ('pipeline-2',\n",
              "                                 Pipeline(steps=[('simpleimputer',\n",
              "                                                  SimpleImputer(strategy='most_frequent')),\n",
              "                                                 ('onehotencoder',\n",
              "                                                  OneHotEncoder(handle_unknown='ignore',\n",
              "                                                                sparse=False))]),\n",
              "                                 <sklearn.compose._column_transformer.make_column_selector object at 0x7f3e2c486d90>)])"
            ],
            "text/html": [
              "<style>#sk-55b0b134-c03b-4ceb-b12c-750325f3c7d9 {color: black;background-color: white;}#sk-55b0b134-c03b-4ceb-b12c-750325f3c7d9 pre{padding: 0;}#sk-55b0b134-c03b-4ceb-b12c-750325f3c7d9 div.sk-toggleable {background-color: white;}#sk-55b0b134-c03b-4ceb-b12c-750325f3c7d9 label.sk-toggleable__label {cursor: pointer;display: block;width: 100%;margin-bottom: 0;padding: 0.3em;box-sizing: border-box;text-align: center;}#sk-55b0b134-c03b-4ceb-b12c-750325f3c7d9 label.sk-toggleable__label-arrow:before {content: \"▸\";float: left;margin-right: 0.25em;color: #696969;}#sk-55b0b134-c03b-4ceb-b12c-750325f3c7d9 label.sk-toggleable__label-arrow:hover:before {color: black;}#sk-55b0b134-c03b-4ceb-b12c-750325f3c7d9 div.sk-estimator:hover label.sk-toggleable__label-arrow:before {color: black;}#sk-55b0b134-c03b-4ceb-b12c-750325f3c7d9 div.sk-toggleable__content {max-height: 0;max-width: 0;overflow: hidden;text-align: left;background-color: #f0f8ff;}#sk-55b0b134-c03b-4ceb-b12c-750325f3c7d9 div.sk-toggleable__content pre {margin: 0.2em;color: black;border-radius: 0.25em;background-color: #f0f8ff;}#sk-55b0b134-c03b-4ceb-b12c-750325f3c7d9 input.sk-toggleable__control:checked~div.sk-toggleable__content {max-height: 200px;max-width: 100%;overflow: auto;}#sk-55b0b134-c03b-4ceb-b12c-750325f3c7d9 input.sk-toggleable__control:checked~label.sk-toggleable__label-arrow:before {content: \"▾\";}#sk-55b0b134-c03b-4ceb-b12c-750325f3c7d9 div.sk-estimator input.sk-toggleable__control:checked~label.sk-toggleable__label {background-color: #d4ebff;}#sk-55b0b134-c03b-4ceb-b12c-750325f3c7d9 div.sk-label input.sk-toggleable__control:checked~label.sk-toggleable__label {background-color: #d4ebff;}#sk-55b0b134-c03b-4ceb-b12c-750325f3c7d9 input.sk-hidden--visually {border: 0;clip: rect(1px 1px 1px 1px);clip: rect(1px, 1px, 1px, 1px);height: 1px;margin: -1px;overflow: hidden;padding: 0;position: absolute;width: 1px;}#sk-55b0b134-c03b-4ceb-b12c-750325f3c7d9 div.sk-estimator {font-family: monospace;background-color: #f0f8ff;border: 1px dotted black;border-radius: 0.25em;box-sizing: border-box;margin-bottom: 0.5em;}#sk-55b0b134-c03b-4ceb-b12c-750325f3c7d9 div.sk-estimator:hover {background-color: #d4ebff;}#sk-55b0b134-c03b-4ceb-b12c-750325f3c7d9 div.sk-parallel-item::after {content: \"\";width: 100%;border-bottom: 1px solid gray;flex-grow: 1;}#sk-55b0b134-c03b-4ceb-b12c-750325f3c7d9 div.sk-label:hover label.sk-toggleable__label {background-color: #d4ebff;}#sk-55b0b134-c03b-4ceb-b12c-750325f3c7d9 div.sk-serial::before {content: \"\";position: absolute;border-left: 1px solid gray;box-sizing: border-box;top: 2em;bottom: 0;left: 50%;}#sk-55b0b134-c03b-4ceb-b12c-750325f3c7d9 div.sk-serial {display: flex;flex-direction: column;align-items: center;background-color: white;padding-right: 0.2em;padding-left: 0.2em;}#sk-55b0b134-c03b-4ceb-b12c-750325f3c7d9 div.sk-item {z-index: 1;}#sk-55b0b134-c03b-4ceb-b12c-750325f3c7d9 div.sk-parallel {display: flex;align-items: stretch;justify-content: center;background-color: white;}#sk-55b0b134-c03b-4ceb-b12c-750325f3c7d9 div.sk-parallel::before {content: \"\";position: absolute;border-left: 1px solid gray;box-sizing: border-box;top: 2em;bottom: 0;left: 50%;}#sk-55b0b134-c03b-4ceb-b12c-750325f3c7d9 div.sk-parallel-item {display: flex;flex-direction: column;position: relative;background-color: white;}#sk-55b0b134-c03b-4ceb-b12c-750325f3c7d9 div.sk-parallel-item:first-child::after {align-self: flex-end;width: 50%;}#sk-55b0b134-c03b-4ceb-b12c-750325f3c7d9 div.sk-parallel-item:last-child::after {align-self: flex-start;width: 50%;}#sk-55b0b134-c03b-4ceb-b12c-750325f3c7d9 div.sk-parallel-item:only-child::after {width: 0;}#sk-55b0b134-c03b-4ceb-b12c-750325f3c7d9 div.sk-dashed-wrapped {border: 1px dashed gray;margin: 0 0.4em 0.5em 0.4em;box-sizing: border-box;padding-bottom: 0.4em;background-color: white;position: relative;}#sk-55b0b134-c03b-4ceb-b12c-750325f3c7d9 div.sk-label label {font-family: monospace;font-weight: bold;background-color: white;display: inline-block;line-height: 1.2em;}#sk-55b0b134-c03b-4ceb-b12c-750325f3c7d9 div.sk-label-container {position: relative;z-index: 2;text-align: center;}#sk-55b0b134-c03b-4ceb-b12c-750325f3c7d9 div.sk-container {/* jupyter's `normalize.less` sets `[hidden] { display: none; }` but bootstrap.min.css set `[hidden] { display: none !important; }` so we also need the `!important` here to be able to override the default hidden behavior on the sphinx rendered scikit-learn.org. See: https://github.com/scikit-learn/scikit-learn/issues/21755 */display: inline-block !important;position: relative;}#sk-55b0b134-c03b-4ceb-b12c-750325f3c7d9 div.sk-text-repr-fallback {display: none;}</style><div id=\"sk-55b0b134-c03b-4ceb-b12c-750325f3c7d9\" class=\"sk-top-container\"><div class=\"sk-text-repr-fallback\"><pre>ColumnTransformer(transformers=[(&#x27;pipeline-1&#x27;,\n",
              "                                 Pipeline(steps=[(&#x27;simpleimputer&#x27;,\n",
              "                                                  SimpleImputer(strategy=&#x27;most_frequent&#x27;)),\n",
              "                                                 (&#x27;standardscaler&#x27;,\n",
              "                                                  StandardScaler())]),\n",
              "                                 &lt;sklearn.compose._column_transformer.make_column_selector object at 0x7f3e2c486d00&gt;),\n",
              "                                (&#x27;pipeline-2&#x27;,\n",
              "                                 Pipeline(steps=[(&#x27;simpleimputer&#x27;,\n",
              "                                                  SimpleImputer(strategy=&#x27;most_frequent&#x27;)),\n",
              "                                                 (&#x27;onehotencoder&#x27;,\n",
              "                                                  OneHotEncoder(handle_unknown=&#x27;ignore&#x27;,\n",
              "                                                                sparse=False))]),\n",
              "                                 &lt;sklearn.compose._column_transformer.make_column_selector object at 0x7f3e2c486d90&gt;)])</pre><b>Please rerun this cell to show the HTML repr or trust the notebook.</b></div><div class=\"sk-container\" hidden><div class=\"sk-item sk-dashed-wrapped\"><div class=\"sk-label-container\"><div class=\"sk-label sk-toggleable\"><input class=\"sk-toggleable__control sk-hidden--visually\" id=\"f507a1d9-c3e0-485c-90ef-3a165d96397c\" type=\"checkbox\" ><label for=\"f507a1d9-c3e0-485c-90ef-3a165d96397c\" class=\"sk-toggleable__label sk-toggleable__label-arrow\">ColumnTransformer</label><div class=\"sk-toggleable__content\"><pre>ColumnTransformer(transformers=[(&#x27;pipeline-1&#x27;,\n",
              "                                 Pipeline(steps=[(&#x27;simpleimputer&#x27;,\n",
              "                                                  SimpleImputer(strategy=&#x27;most_frequent&#x27;)),\n",
              "                                                 (&#x27;standardscaler&#x27;,\n",
              "                                                  StandardScaler())]),\n",
              "                                 &lt;sklearn.compose._column_transformer.make_column_selector object at 0x7f3e2c486d00&gt;),\n",
              "                                (&#x27;pipeline-2&#x27;,\n",
              "                                 Pipeline(steps=[(&#x27;simpleimputer&#x27;,\n",
              "                                                  SimpleImputer(strategy=&#x27;most_frequent&#x27;)),\n",
              "                                                 (&#x27;onehotencoder&#x27;,\n",
              "                                                  OneHotEncoder(handle_unknown=&#x27;ignore&#x27;,\n",
              "                                                                sparse=False))]),\n",
              "                                 &lt;sklearn.compose._column_transformer.make_column_selector object at 0x7f3e2c486d90&gt;)])</pre></div></div></div><div class=\"sk-parallel\"><div class=\"sk-parallel-item\"><div class=\"sk-item\"><div class=\"sk-label-container\"><div class=\"sk-label sk-toggleable\"><input class=\"sk-toggleable__control sk-hidden--visually\" id=\"e2a5cb70-213f-45f7-b5cb-ee10028f0f25\" type=\"checkbox\" ><label for=\"e2a5cb70-213f-45f7-b5cb-ee10028f0f25\" class=\"sk-toggleable__label sk-toggleable__label-arrow\">pipeline-1</label><div class=\"sk-toggleable__content\"><pre>&lt;sklearn.compose._column_transformer.make_column_selector object at 0x7f3e2c486d00&gt;</pre></div></div></div><div class=\"sk-serial\"><div class=\"sk-item\"><div class=\"sk-serial\"><div class=\"sk-item\"><div class=\"sk-estimator sk-toggleable\"><input class=\"sk-toggleable__control sk-hidden--visually\" id=\"e2dca08a-e57e-4adb-858a-ec3a3da92ba1\" type=\"checkbox\" ><label for=\"e2dca08a-e57e-4adb-858a-ec3a3da92ba1\" class=\"sk-toggleable__label sk-toggleable__label-arrow\">SimpleImputer</label><div class=\"sk-toggleable__content\"><pre>SimpleImputer(strategy=&#x27;most_frequent&#x27;)</pre></div></div></div><div class=\"sk-item\"><div class=\"sk-estimator sk-toggleable\"><input class=\"sk-toggleable__control sk-hidden--visually\" id=\"7cd18b09-e1d9-41f8-b680-75da64192d90\" type=\"checkbox\" ><label for=\"7cd18b09-e1d9-41f8-b680-75da64192d90\" class=\"sk-toggleable__label sk-toggleable__label-arrow\">StandardScaler</label><div class=\"sk-toggleable__content\"><pre>StandardScaler()</pre></div></div></div></div></div></div></div></div><div class=\"sk-parallel-item\"><div class=\"sk-item\"><div class=\"sk-label-container\"><div class=\"sk-label sk-toggleable\"><input class=\"sk-toggleable__control sk-hidden--visually\" id=\"ade57ead-f9be-46b6-972d-81379cc5a0e3\" type=\"checkbox\" ><label for=\"ade57ead-f9be-46b6-972d-81379cc5a0e3\" class=\"sk-toggleable__label sk-toggleable__label-arrow\">pipeline-2</label><div class=\"sk-toggleable__content\"><pre>&lt;sklearn.compose._column_transformer.make_column_selector object at 0x7f3e2c486d90&gt;</pre></div></div></div><div class=\"sk-serial\"><div class=\"sk-item\"><div class=\"sk-serial\"><div class=\"sk-item\"><div class=\"sk-estimator sk-toggleable\"><input class=\"sk-toggleable__control sk-hidden--visually\" id=\"ddc6b0d7-41ea-4f85-a890-4032195f9782\" type=\"checkbox\" ><label for=\"ddc6b0d7-41ea-4f85-a890-4032195f9782\" class=\"sk-toggleable__label sk-toggleable__label-arrow\">SimpleImputer</label><div class=\"sk-toggleable__content\"><pre>SimpleImputer(strategy=&#x27;most_frequent&#x27;)</pre></div></div></div><div class=\"sk-item\"><div class=\"sk-estimator sk-toggleable\"><input class=\"sk-toggleable__control sk-hidden--visually\" id=\"4cbf85ba-ab21-4898-a8ab-65ed6770cbce\" type=\"checkbox\" ><label for=\"4cbf85ba-ab21-4898-a8ab-65ed6770cbce\" class=\"sk-toggleable__label sk-toggleable__label-arrow\">OneHotEncoder</label><div class=\"sk-toggleable__content\"><pre>OneHotEncoder(handle_unknown=&#x27;ignore&#x27;, sparse=False)</pre></div></div></div></div></div></div></div></div></div></div></div></div>"
            ]
          },
          "metadata": {},
          "execution_count": 42
        }
      ]
    },
    {
      "cell_type": "code",
      "source": [
        "# Transformar train y test\n",
        "X_train_processed = preprocessor.transform(X_train)\n",
        "X_test_processed = preprocessor.transform(X_test)"
      ],
      "metadata": {
        "id": "j9Lc8xUoydIT"
      },
      "execution_count": 43,
      "outputs": []
    },
    {
      "cell_type": "code",
      "source": [
        "## Ver el resultado\n",
        "# Comprobar los valores faltantes y que los datos se escalen y tengan una codificación one-hot\n",
        "print(np.isnan(X_train_processed).sum().sum(), 'missing values in training data')\n",
        "print(np.isnan(X_test_processed).sum().sum(), 'missing values in testing data')\n",
        "print('\\n')\n",
        "print('All data in X_train_processed are', X_train_processed.dtype)\n",
        "print('All data in X_test_processed are', X_test_processed.dtype)\n",
        "print('\\n')\n",
        "print('shape of data is', X_train_processed.shape)\n",
        "print('\\n')\n",
        "\n",
        "# Ver numpy resultante\n",
        "X_train_processed"
      ],
      "metadata": {
        "colab": {
          "base_uri": "https://localhost:8080/"
        },
        "id": "4rlFepNYyfSh",
        "outputId": "9bd4e870-fd5a-4e77-c061-4d8aba6b4ba7"
      },
      "execution_count": 44,
      "outputs": [
        {
          "output_type": "stream",
          "name": "stdout",
          "text": [
            "0 missing values in training data\n",
            "0 missing values in testing data\n",
            "\n",
            "\n",
            "All data in X_train_processed are float64\n",
            "All data in X_test_processed are float64\n",
            "\n",
            "\n",
            "shape of data is (6392, 39)\n",
            "\n",
            "\n"
          ]
        },
        {
          "output_type": "execute_result",
          "data": {
            "text/plain": [
              "array([[ 0.73644992, -0.7403206 , -0.71277507, ...,  0.        ,\n",
              "         1.        ,  0.        ],\n",
              "       [ 0.49937358,  1.35076614, -1.29105225, ...,  0.        ,\n",
              "         1.        ,  0.        ],\n",
              "       [-0.12564588,  1.35076614,  1.81331864, ...,  1.        ,\n",
              "         0.        ,  0.        ],\n",
              "       ...,\n",
              "       [ 1.00585486, -0.7403206 , -0.92052713, ...,  1.        ,\n",
              "         0.        ,  0.        ],\n",
              "       [ 1.59854572, -0.7403206 , -0.2277552 , ...,  1.        ,\n",
              "         0.        ,  0.        ],\n",
              "       [ 0.73644992, -0.7403206 , -0.95867683, ...,  1.        ,\n",
              "         0.        ,  0.        ]])"
            ]
          },
          "metadata": {},
          "execution_count": 44
        }
      ]
    },
    {
      "cell_type": "markdown",
      "source": [
        "## 🧮 **V. Aplicación de modelos**"
      ],
      "metadata": {
        "id": "kgwS5W7YcBD4"
      }
    },
    {
      "cell_type": "markdown",
      "source": [
        "### **📈 A. Modelo de regresión lineal**"
      ],
      "metadata": {
        "id": "AHxvZaGccI8r"
      }
    },
    {
      "cell_type": "code",
      "source": [
        "# Importar el modelo\n",
        "from sklearn.linear_model import LinearRegression"
      ],
      "metadata": {
        "id": "d5zZ6ZhBcpZb"
      },
      "execution_count": 45,
      "outputs": []
    },
    {
      "cell_type": "code",
      "source": [
        "# Hacer una instancia del modelo de regresión\n",
        "reg = LinearRegression()"
      ],
      "metadata": {
        "id": "yxCcMW2_ctCX"
      },
      "execution_count": 46,
      "outputs": []
    },
    {
      "cell_type": "code",
      "source": [
        "# Entrenar el modelo en los datos de entrenamiento\n",
        "reg.fit(X_train_processed, y_train)"
      ],
      "metadata": {
        "colab": {
          "base_uri": "https://localhost:8080/",
          "height": 75
        },
        "id": "9DvxMExfct5i",
        "outputId": "472c2e68-e74a-449f-852d-4f588f431a37"
      },
      "execution_count": 47,
      "outputs": [
        {
          "output_type": "execute_result",
          "data": {
            "text/plain": [
              "LinearRegression()"
            ],
            "text/html": [
              "<style>#sk-c74c19f4-9145-4fca-aae6-cca643d2ed5a {color: black;background-color: white;}#sk-c74c19f4-9145-4fca-aae6-cca643d2ed5a pre{padding: 0;}#sk-c74c19f4-9145-4fca-aae6-cca643d2ed5a div.sk-toggleable {background-color: white;}#sk-c74c19f4-9145-4fca-aae6-cca643d2ed5a label.sk-toggleable__label {cursor: pointer;display: block;width: 100%;margin-bottom: 0;padding: 0.3em;box-sizing: border-box;text-align: center;}#sk-c74c19f4-9145-4fca-aae6-cca643d2ed5a label.sk-toggleable__label-arrow:before {content: \"▸\";float: left;margin-right: 0.25em;color: #696969;}#sk-c74c19f4-9145-4fca-aae6-cca643d2ed5a label.sk-toggleable__label-arrow:hover:before {color: black;}#sk-c74c19f4-9145-4fca-aae6-cca643d2ed5a div.sk-estimator:hover label.sk-toggleable__label-arrow:before {color: black;}#sk-c74c19f4-9145-4fca-aae6-cca643d2ed5a div.sk-toggleable__content {max-height: 0;max-width: 0;overflow: hidden;text-align: left;background-color: #f0f8ff;}#sk-c74c19f4-9145-4fca-aae6-cca643d2ed5a div.sk-toggleable__content pre {margin: 0.2em;color: black;border-radius: 0.25em;background-color: #f0f8ff;}#sk-c74c19f4-9145-4fca-aae6-cca643d2ed5a input.sk-toggleable__control:checked~div.sk-toggleable__content {max-height: 200px;max-width: 100%;overflow: auto;}#sk-c74c19f4-9145-4fca-aae6-cca643d2ed5a input.sk-toggleable__control:checked~label.sk-toggleable__label-arrow:before {content: \"▾\";}#sk-c74c19f4-9145-4fca-aae6-cca643d2ed5a div.sk-estimator input.sk-toggleable__control:checked~label.sk-toggleable__label {background-color: #d4ebff;}#sk-c74c19f4-9145-4fca-aae6-cca643d2ed5a div.sk-label input.sk-toggleable__control:checked~label.sk-toggleable__label {background-color: #d4ebff;}#sk-c74c19f4-9145-4fca-aae6-cca643d2ed5a input.sk-hidden--visually {border: 0;clip: rect(1px 1px 1px 1px);clip: rect(1px, 1px, 1px, 1px);height: 1px;margin: -1px;overflow: hidden;padding: 0;position: absolute;width: 1px;}#sk-c74c19f4-9145-4fca-aae6-cca643d2ed5a div.sk-estimator {font-family: monospace;background-color: #f0f8ff;border: 1px dotted black;border-radius: 0.25em;box-sizing: border-box;margin-bottom: 0.5em;}#sk-c74c19f4-9145-4fca-aae6-cca643d2ed5a div.sk-estimator:hover {background-color: #d4ebff;}#sk-c74c19f4-9145-4fca-aae6-cca643d2ed5a div.sk-parallel-item::after {content: \"\";width: 100%;border-bottom: 1px solid gray;flex-grow: 1;}#sk-c74c19f4-9145-4fca-aae6-cca643d2ed5a div.sk-label:hover label.sk-toggleable__label {background-color: #d4ebff;}#sk-c74c19f4-9145-4fca-aae6-cca643d2ed5a div.sk-serial::before {content: \"\";position: absolute;border-left: 1px solid gray;box-sizing: border-box;top: 2em;bottom: 0;left: 50%;}#sk-c74c19f4-9145-4fca-aae6-cca643d2ed5a div.sk-serial {display: flex;flex-direction: column;align-items: center;background-color: white;padding-right: 0.2em;padding-left: 0.2em;}#sk-c74c19f4-9145-4fca-aae6-cca643d2ed5a div.sk-item {z-index: 1;}#sk-c74c19f4-9145-4fca-aae6-cca643d2ed5a div.sk-parallel {display: flex;align-items: stretch;justify-content: center;background-color: white;}#sk-c74c19f4-9145-4fca-aae6-cca643d2ed5a div.sk-parallel::before {content: \"\";position: absolute;border-left: 1px solid gray;box-sizing: border-box;top: 2em;bottom: 0;left: 50%;}#sk-c74c19f4-9145-4fca-aae6-cca643d2ed5a div.sk-parallel-item {display: flex;flex-direction: column;position: relative;background-color: white;}#sk-c74c19f4-9145-4fca-aae6-cca643d2ed5a div.sk-parallel-item:first-child::after {align-self: flex-end;width: 50%;}#sk-c74c19f4-9145-4fca-aae6-cca643d2ed5a div.sk-parallel-item:last-child::after {align-self: flex-start;width: 50%;}#sk-c74c19f4-9145-4fca-aae6-cca643d2ed5a div.sk-parallel-item:only-child::after {width: 0;}#sk-c74c19f4-9145-4fca-aae6-cca643d2ed5a div.sk-dashed-wrapped {border: 1px dashed gray;margin: 0 0.4em 0.5em 0.4em;box-sizing: border-box;padding-bottom: 0.4em;background-color: white;position: relative;}#sk-c74c19f4-9145-4fca-aae6-cca643d2ed5a div.sk-label label {font-family: monospace;font-weight: bold;background-color: white;display: inline-block;line-height: 1.2em;}#sk-c74c19f4-9145-4fca-aae6-cca643d2ed5a div.sk-label-container {position: relative;z-index: 2;text-align: center;}#sk-c74c19f4-9145-4fca-aae6-cca643d2ed5a div.sk-container {/* jupyter's `normalize.less` sets `[hidden] { display: none; }` but bootstrap.min.css set `[hidden] { display: none !important; }` so we also need the `!important` here to be able to override the default hidden behavior on the sphinx rendered scikit-learn.org. See: https://github.com/scikit-learn/scikit-learn/issues/21755 */display: inline-block !important;position: relative;}#sk-c74c19f4-9145-4fca-aae6-cca643d2ed5a div.sk-text-repr-fallback {display: none;}</style><div id=\"sk-c74c19f4-9145-4fca-aae6-cca643d2ed5a\" class=\"sk-top-container\"><div class=\"sk-text-repr-fallback\"><pre>LinearRegression()</pre><b>Please rerun this cell to show the HTML repr or trust the notebook.</b></div><div class=\"sk-container\" hidden><div class=\"sk-item\"><div class=\"sk-estimator sk-toggleable\"><input class=\"sk-toggleable__control sk-hidden--visually\" id=\"8815734f-c478-40b9-94d9-4492a933b4e2\" type=\"checkbox\" checked><label for=\"8815734f-c478-40b9-94d9-4492a933b4e2\" class=\"sk-toggleable__label sk-toggleable__label-arrow\">LinearRegression</label><div class=\"sk-toggleable__content\"><pre>LinearRegression()</pre></div></div></div></div></div>"
            ]
          },
          "metadata": {},
          "execution_count": 47
        }
      ]
    },
    {
      "cell_type": "code",
      "source": [
        "## Obtener los datos de R^2 después de ajustar nuestro modelo\n",
        "# Datos de entrenamiento\n",
        "rl_train_score = reg.score(X_train_processed, y_train) \n",
        "print(rl_train_score)"
      ],
      "metadata": {
        "colab": {
          "base_uri": "https://localhost:8080/"
        },
        "id": "Ujp3nrAJczco",
        "outputId": "d89e1d68-dd47-4b09-8d37-d9cc458a3252"
      },
      "execution_count": 48,
      "outputs": [
        {
          "output_type": "stream",
          "name": "stdout",
          "text": [
            "0.5615452866088471\n"
          ]
        }
      ]
    },
    {
      "cell_type": "code",
      "source": [
        "# Datos de prueba\n",
        "rl_test_score = reg.score(X_test_processed, y_test)\n",
        "print(rl_test_score)"
      ],
      "metadata": {
        "colab": {
          "base_uri": "https://localhost:8080/"
        },
        "id": "qqzVrvg4dFq7",
        "outputId": "dceb228c-f475-4077-c7d0-9a51043dfe1b"
      },
      "execution_count": 49,
      "outputs": [
        {
          "output_type": "stream",
          "name": "stdout",
          "text": [
            "0.5671089881717881\n"
          ]
        }
      ]
    },
    {
      "cell_type": "code",
      "source": [
        "## Obtención de predicciones\n",
        "# Predicciones del conjunto de entrenamiento\n",
        "train_preds = reg.predict(X_train_processed)\n",
        "# Predicciones del conjunto de prueba\n",
        "test_preds = reg.predict(X_test_processed)"
      ],
      "metadata": {
        "id": "EiOa0BjUpRIY"
      },
      "execution_count": 50,
      "outputs": []
    },
    {
      "cell_type": "code",
      "source": [
        "# Raíz del error cuadrático medio (RECM)\n",
        "from sklearn.metrics import mean_squared_error\n",
        "rmse_train = np.sqrt(mean_squared_error(y_train, train_preds))\n",
        "rmse_test = np.sqrt(mean_squared_error(y_test, test_preds))\n",
        "print('rmse train:',rmse_train)\n",
        "print('rmse test:',rmse_test)"
      ],
      "metadata": {
        "colab": {
          "base_uri": "https://localhost:8080/"
        },
        "id": "LKGFzkkhpe5d",
        "outputId": "a6307c24-36f5-4a09-c3bc-f089c38c0eff"
      },
      "execution_count": 51,
      "outputs": [
        {
          "output_type": "stream",
          "name": "stdout",
          "text": [
            "rmse train: 1139.1168959865379\n",
            "rmse test: 1092.8570216316857\n"
          ]
        }
      ]
    },
    {
      "cell_type": "markdown",
      "source": [
        "### 📌 **Evaluación de rendimiento del modelo**\n",
        "Según los resultados obtenidos, el modelo se encuentra bien ajustado; sin embargo, no es muy efectivo en sus predicciones, así mismo como presenta un error muy alto en el error cuadrático medio de los datos de entrenamiento y de prueba."
      ],
      "metadata": {
        "id": "vFrswykdrue7"
      }
    },
    {
      "cell_type": "markdown",
      "source": [
        "### **🌳 A. Modelo de árbol de regresión**"
      ],
      "metadata": {
        "id": "ymaiX0bktTkf"
      }
    },
    {
      "cell_type": "code",
      "source": [
        "# Importar el modelo\n",
        "from sklearn.tree import DecisionTreeRegressor"
      ],
      "metadata": {
        "id": "YYcP77wft9hg"
      },
      "execution_count": 52,
      "outputs": []
    },
    {
      "cell_type": "code",
      "source": [
        "# Hacer una instancia del modelo\n",
        "dec_tree = DecisionTreeRegressor(random_state=42)"
      ],
      "metadata": {
        "id": "wuNqjMzduAWd"
      },
      "execution_count": 53,
      "outputs": []
    },
    {
      "cell_type": "code",
      "source": [
        "# Ajustar el modelo usando los datos de entrenamiento\n",
        "dec_tree.fit(X_train_processed, y_train)"
      ],
      "metadata": {
        "colab": {
          "base_uri": "https://localhost:8080/",
          "height": 75
        },
        "id": "25rsQLwTuGVt",
        "outputId": "2b2b71ce-1af6-49cd-ebd4-cb2512e0a4e5"
      },
      "execution_count": 54,
      "outputs": [
        {
          "output_type": "execute_result",
          "data": {
            "text/plain": [
              "DecisionTreeRegressor(random_state=42)"
            ],
            "text/html": [
              "<style>#sk-4c4b95a6-025b-4676-816c-db0c206610c4 {color: black;background-color: white;}#sk-4c4b95a6-025b-4676-816c-db0c206610c4 pre{padding: 0;}#sk-4c4b95a6-025b-4676-816c-db0c206610c4 div.sk-toggleable {background-color: white;}#sk-4c4b95a6-025b-4676-816c-db0c206610c4 label.sk-toggleable__label {cursor: pointer;display: block;width: 100%;margin-bottom: 0;padding: 0.3em;box-sizing: border-box;text-align: center;}#sk-4c4b95a6-025b-4676-816c-db0c206610c4 label.sk-toggleable__label-arrow:before {content: \"▸\";float: left;margin-right: 0.25em;color: #696969;}#sk-4c4b95a6-025b-4676-816c-db0c206610c4 label.sk-toggleable__label-arrow:hover:before {color: black;}#sk-4c4b95a6-025b-4676-816c-db0c206610c4 div.sk-estimator:hover label.sk-toggleable__label-arrow:before {color: black;}#sk-4c4b95a6-025b-4676-816c-db0c206610c4 div.sk-toggleable__content {max-height: 0;max-width: 0;overflow: hidden;text-align: left;background-color: #f0f8ff;}#sk-4c4b95a6-025b-4676-816c-db0c206610c4 div.sk-toggleable__content pre {margin: 0.2em;color: black;border-radius: 0.25em;background-color: #f0f8ff;}#sk-4c4b95a6-025b-4676-816c-db0c206610c4 input.sk-toggleable__control:checked~div.sk-toggleable__content {max-height: 200px;max-width: 100%;overflow: auto;}#sk-4c4b95a6-025b-4676-816c-db0c206610c4 input.sk-toggleable__control:checked~label.sk-toggleable__label-arrow:before {content: \"▾\";}#sk-4c4b95a6-025b-4676-816c-db0c206610c4 div.sk-estimator input.sk-toggleable__control:checked~label.sk-toggleable__label {background-color: #d4ebff;}#sk-4c4b95a6-025b-4676-816c-db0c206610c4 div.sk-label input.sk-toggleable__control:checked~label.sk-toggleable__label {background-color: #d4ebff;}#sk-4c4b95a6-025b-4676-816c-db0c206610c4 input.sk-hidden--visually {border: 0;clip: rect(1px 1px 1px 1px);clip: rect(1px, 1px, 1px, 1px);height: 1px;margin: -1px;overflow: hidden;padding: 0;position: absolute;width: 1px;}#sk-4c4b95a6-025b-4676-816c-db0c206610c4 div.sk-estimator {font-family: monospace;background-color: #f0f8ff;border: 1px dotted black;border-radius: 0.25em;box-sizing: border-box;margin-bottom: 0.5em;}#sk-4c4b95a6-025b-4676-816c-db0c206610c4 div.sk-estimator:hover {background-color: #d4ebff;}#sk-4c4b95a6-025b-4676-816c-db0c206610c4 div.sk-parallel-item::after {content: \"\";width: 100%;border-bottom: 1px solid gray;flex-grow: 1;}#sk-4c4b95a6-025b-4676-816c-db0c206610c4 div.sk-label:hover label.sk-toggleable__label {background-color: #d4ebff;}#sk-4c4b95a6-025b-4676-816c-db0c206610c4 div.sk-serial::before {content: \"\";position: absolute;border-left: 1px solid gray;box-sizing: border-box;top: 2em;bottom: 0;left: 50%;}#sk-4c4b95a6-025b-4676-816c-db0c206610c4 div.sk-serial {display: flex;flex-direction: column;align-items: center;background-color: white;padding-right: 0.2em;padding-left: 0.2em;}#sk-4c4b95a6-025b-4676-816c-db0c206610c4 div.sk-item {z-index: 1;}#sk-4c4b95a6-025b-4676-816c-db0c206610c4 div.sk-parallel {display: flex;align-items: stretch;justify-content: center;background-color: white;}#sk-4c4b95a6-025b-4676-816c-db0c206610c4 div.sk-parallel::before {content: \"\";position: absolute;border-left: 1px solid gray;box-sizing: border-box;top: 2em;bottom: 0;left: 50%;}#sk-4c4b95a6-025b-4676-816c-db0c206610c4 div.sk-parallel-item {display: flex;flex-direction: column;position: relative;background-color: white;}#sk-4c4b95a6-025b-4676-816c-db0c206610c4 div.sk-parallel-item:first-child::after {align-self: flex-end;width: 50%;}#sk-4c4b95a6-025b-4676-816c-db0c206610c4 div.sk-parallel-item:last-child::after {align-self: flex-start;width: 50%;}#sk-4c4b95a6-025b-4676-816c-db0c206610c4 div.sk-parallel-item:only-child::after {width: 0;}#sk-4c4b95a6-025b-4676-816c-db0c206610c4 div.sk-dashed-wrapped {border: 1px dashed gray;margin: 0 0.4em 0.5em 0.4em;box-sizing: border-box;padding-bottom: 0.4em;background-color: white;position: relative;}#sk-4c4b95a6-025b-4676-816c-db0c206610c4 div.sk-label label {font-family: monospace;font-weight: bold;background-color: white;display: inline-block;line-height: 1.2em;}#sk-4c4b95a6-025b-4676-816c-db0c206610c4 div.sk-label-container {position: relative;z-index: 2;text-align: center;}#sk-4c4b95a6-025b-4676-816c-db0c206610c4 div.sk-container {/* jupyter's `normalize.less` sets `[hidden] { display: none; }` but bootstrap.min.css set `[hidden] { display: none !important; }` so we also need the `!important` here to be able to override the default hidden behavior on the sphinx rendered scikit-learn.org. See: https://github.com/scikit-learn/scikit-learn/issues/21755 */display: inline-block !important;position: relative;}#sk-4c4b95a6-025b-4676-816c-db0c206610c4 div.sk-text-repr-fallback {display: none;}</style><div id=\"sk-4c4b95a6-025b-4676-816c-db0c206610c4\" class=\"sk-top-container\"><div class=\"sk-text-repr-fallback\"><pre>DecisionTreeRegressor(random_state=42)</pre><b>Please rerun this cell to show the HTML repr or trust the notebook.</b></div><div class=\"sk-container\" hidden><div class=\"sk-item\"><div class=\"sk-estimator sk-toggleable\"><input class=\"sk-toggleable__control sk-hidden--visually\" id=\"40c80e91-d6a3-4902-866d-154444a06e5a\" type=\"checkbox\" checked><label for=\"40c80e91-d6a3-4902-866d-154444a06e5a\" class=\"sk-toggleable__label sk-toggleable__label-arrow\">DecisionTreeRegressor</label><div class=\"sk-toggleable__content\"><pre>DecisionTreeRegressor(random_state=42)</pre></div></div></div></div></div>"
            ]
          },
          "metadata": {},
          "execution_count": 54
        }
      ]
    },
    {
      "cell_type": "code",
      "source": [
        "# Predecir los valores objetivos para el conjunto de entrenamiento y de prueba\n",
        "train_preds = dec_tree.predict(X_train_processed)\n",
        "test_preds = dec_tree.predict(X_test_processed)"
      ],
      "metadata": {
        "id": "zwJuEcHXvR51"
      },
      "execution_count": 55,
      "outputs": []
    },
    {
      "cell_type": "code",
      "source": [
        "# Evaluar el modelo\n",
        "train_score = dec_tree.score(X_train_processed, y_train)\n",
        "test_score = dec_tree.score(X_test_processed, y_test)\n",
        "print(train_score)\n",
        "print(test_score)"
      ],
      "metadata": {
        "colab": {
          "base_uri": "https://localhost:8080/"
        },
        "id": "klIMiTn-vX6R",
        "outputId": "82052757-4d3d-4386-83fd-68f784af0356"
      },
      "execution_count": 56,
      "outputs": [
        {
          "output_type": "stream",
          "name": "stdout",
          "text": [
            "1.0\n",
            "0.1753932274200185\n"
          ]
        }
      ]
    },
    {
      "cell_type": "markdown",
      "source": [
        "El modelo presenta evidentemente un alto sobreajuste."
      ],
      "metadata": {
        "id": "yb6TKiVrvnoM"
      }
    },
    {
      "cell_type": "code",
      "source": [
        "# Profundidad de nuestro árbol por defecto\n",
        "dec_tree.get_depth()"
      ],
      "metadata": {
        "colab": {
          "base_uri": "https://localhost:8080/"
        },
        "id": "1UOcvkbDwARz",
        "outputId": "643d10bf-d12e-460d-99d4-5dfae15e187b"
      },
      "execution_count": 57,
      "outputs": [
        {
          "output_type": "execute_result",
          "data": {
            "text/plain": [
              "40"
            ]
          },
          "metadata": {},
          "execution_count": 57
        }
      ]
    },
    {
      "cell_type": "code",
      "source": [
        "# Nodos hojas de nuestro árbol\n",
        "dec_tree.get_n_leaves()"
      ],
      "metadata": {
        "colab": {
          "base_uri": "https://localhost:8080/"
        },
        "id": "m4j3ZqdjwBSO",
        "outputId": "1c8352e6-0cc5-4498-a69b-3b755ccbddee"
      },
      "execution_count": 58,
      "outputs": [
        {
          "output_type": "execute_result",
          "data": {
            "text/plain": [
              "6263"
            ]
          },
          "metadata": {},
          "execution_count": 58
        }
      ]
    },
    {
      "cell_type": "code",
      "source": [
        "## Encontrar el max_depth óptimo (ajuste de hiperparámetro)\n",
        "# Lista de valores a probar para max_depth:\n",
        "max_depth_range = list(range(2, 20))\n",
        "# Lista para almacenar la puntuación para cada valor de max_depth:\n",
        "r2 = []\n",
        "for depth in max_depth_range:\n",
        "    dec_tree = DecisionTreeRegressor(max_depth = depth, \n",
        "                             random_state = 42)\n",
        "    dec_tree.fit(X_train_processed, y_train)\n",
        "    score = dec_tree.score(X_test_processed, y_test)\n",
        "    r2.append(score)"
      ],
      "metadata": {
        "id": "j7ZSi28ewDOE"
      },
      "execution_count": 59,
      "outputs": []
    },
    {
      "cell_type": "code",
      "source": [
        "# Visualizar qué max_depth lleva a una puntuación R2 más alta\n",
        "import matplotlib.pyplot as plt\n",
        "plt.plot(max_depth_range, r2)\n",
        "plt.xlabel('Profundidad máxima')\n",
        "plt.ylabel('R2')\n",
        "plt.title('Profundidad máxima vs. R2');"
      ],
      "metadata": {
        "colab": {
          "base_uri": "https://localhost:8080/",
          "height": 295
        },
        "id": "gZKOc1eewPpA",
        "outputId": "7b702f41-bb06-4471-c3a4-9e80ef1e683e"
      },
      "execution_count": 60,
      "outputs": [
        {
          "output_type": "display_data",
          "data": {
            "text/plain": [
              "<Figure size 432x288 with 1 Axes>"
            ],
            "image/png": "[encoded data removed]"
          },
          "metadata": {
            "needs_background": "light"
          }
        }
      ]
    },
    {
      "cell_type": "markdown",
      "source": [
        "Por la imagen anterior, parece que el mejor R2 del modelo es cuando el parámetro max_depth es 5 aproximadamente."
      ],
      "metadata": {
        "id": "X9sdBdEgwTxf"
      }
    },
    {
      "cell_type": "code",
      "source": [
        "# Ejecutar el modelo con nuestro valor optimizado para max_depth\n",
        "dec_tree_n = DecisionTreeRegressor(max_depth = 5, random_state = 42)\n",
        "dec_tree_n.fit(X_train_processed, y_train)\n",
        "train_n_score = dec_tree_n.score(X_train_processed, y_train)\n",
        "test_n_score = dec_tree_n.score(X_test_processed, y_test)\n",
        "print(train_n_score)\n",
        "print(test_n_score)"
      ],
      "metadata": {
        "colab": {
          "base_uri": "https://localhost:8080/"
        },
        "id": "j_d4bxLsweG3",
        "outputId": "eac354f7-2482-479f-fa37-d7f1c34cf9f2"
      },
      "execution_count": 61,
      "outputs": [
        {
          "output_type": "stream",
          "name": "stdout",
          "text": [
            "0.6039092654846363\n",
            "0.594954272967407\n"
          ]
        }
      ]
    },
    {
      "cell_type": "code",
      "source": [
        "# Raíz del error cuadrático medio (RECM)\n",
        "from sklearn.metrics import mean_squared_error\n",
        "rmse_train = np.sqrt(mean_squared_error(y_train, train_preds))\n",
        "rmse_test = np.sqrt(mean_squared_error(y_test, test_preds))\n",
        "print('rmse train:',rmse_train)\n",
        "print('rmse test:',rmse_test)"
      ],
      "metadata": {
        "colab": {
          "base_uri": "https://localhost:8080/"
        },
        "id": "n3qTXju0wyM5",
        "outputId": "57bae8d2-4e31-4900-d510-27446894fe26"
      },
      "execution_count": 62,
      "outputs": [
        {
          "output_type": "stream",
          "name": "stdout",
          "text": [
            "rmse train: 4.925864104892086e-15\n",
            "rmse test: 1508.3339673029034\n"
          ]
        }
      ]
    },
    {
      "cell_type": "markdown",
      "source": [
        "### 📌 **Evaluación de rendimiento del modelo**\n",
        "Según los resultados obtenidos, el modelo se pudo ajustar para que tuviese un buen comportamiento; sin embargo continúa siendo inefectivo para realizar predicciones con un R2 que apenas supera al modelo de regresión lineal y viendo que, a pesar de tener un error cuadrático medio bastante bajo en los datos de entrenamiento, es muy alto en los datos de prueba, incluso superior que el modelo de regresión lineal."
      ],
      "metadata": {
        "id": "rtSJKPZKw86q"
      }
    },
    {
      "cell_type": "markdown",
      "source": [
        "### 🧠 **Pensamientos finales**\n",
        "El modelo que 'mejor resultado' arrojó ser el de árbol de regresión; sin embargo, su R2 continúa siendo muy bajo y a pesar de que se pudo reducir su varianza, su error continúa sienod muy alto.\n",
        "\n",
        "Yo recomendaría no aplicar un modelo de esta forma, hacer más análisis como investigar qué variables no infieren tanto en el vector objetivo, así como segmentar las predicciones para cada outlet, ya que por las características tan variadas de estas, podríamos sesgar la muestra que es lo que vemos con el R2 actual, que parece estar subajustado por la aleatoriedad de los datos mismos.\n",
        "\n",
        "Así que en ese orden de ideas, aún no recomendaría ningún modelo: analizaría las variables más importantes y eliminaría aquellas que no pesen tanto en la predicción (baja interdependencia), dividiría el dataframe por outlet y por tipo de producto para realizar las predicciones, luego probaría este y otros modelos que me den resultados óptimos.\n",
        "\n",
        "Finalmente con los resultados obtenidos podría tomaría decisiones de negocio objetivas y más acertadas."
      ],
      "metadata": {
        "id": "Ew9jodaGpj-o"
      }
    },
    {
      "cell_type": "markdown",
      "source": [
        "### 📑 **Referencias**\n",
        "* [Curso CodingDojo-DataScience](https://github.com/fralfaro/CodingDojo-DataScience)\n",
        "* [Curso MAT281_2022](https://github.com/fralfaro/MAT281_2022)\n",
        "* [Delftstack](https://www.delftstack.com)"
      ],
      "metadata": {
        "id": "hZOuv_L2Z7M6"
      }
    }
  ]
}